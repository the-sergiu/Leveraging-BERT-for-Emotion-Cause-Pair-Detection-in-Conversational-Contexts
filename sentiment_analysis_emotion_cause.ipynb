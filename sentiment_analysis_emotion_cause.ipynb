{
 "cells": [
  {
   "cell_type": "code",
   "execution_count": null,
   "id": "87b06d51-703b-40dd-848b-9815c439df1a",
   "metadata": {},
   "outputs": [],
   "source": [
    "# !pip install -U pip setuptools wheel\n",
    "# !pip install -U 'spacy[cuda11x]'\n",
    "# !python -m spacy download en_core_web_sm"
   ]
  },
  {
   "cell_type": "code",
   "execution_count": 1,
   "id": "32445a80-4a6e-4ab4-a1ec-3de9f5e20420",
   "metadata": {},
   "outputs": [],
   "source": [
    "import json\n",
    "import spacy\n",
    "from transformers import pipeline, AutoTokenizer, AutoModelForSequenceClassification, DataCollatorWithPadding\n",
    "from transformers import TrainingArguments, Trainer\n",
    "from datasets import Dataset\n",
    "import numpy as np\n",
    "from datasets import load_metric\n",
    "import pandas as pd\n",
    "\n",
    "import matplotlib.pyplot as plt\n",
    "import seaborn as sns\n",
    "from sklearn.metrics import confusion_matrix, f1_score, accuracy_score\n",
    "\n",
    "import torch\n",
    "from torch.utils.data import DataLoader, TensorDataset\n",
    "from transformers import BertTokenizer, BertForNextSentencePrediction, AdamW\n"
   ]
  },
  {
   "cell_type": "markdown",
   "id": "9825d779-9a91-4633-bd14-b89e4ca6535e",
   "metadata": {},
   "source": [
    "## Data Preprocess"
   ]
  },
  {
   "cell_type": "markdown",
   "id": "46e47586-85b8-4a2d-afde-97f74c49c345",
   "metadata": {},
   "source": [
    "### Entire Dataset"
   ]
  },
  {
   "cell_type": "code",
   "execution_count": 2,
   "id": "fca5f2bd-bb4b-43f7-8cfd-213c347eb4d8",
   "metadata": {},
   "outputs": [],
   "source": [
    "dataset_path = 'full_dataset.json'\n",
    "\n",
    "# Read the JSON file\n",
    "with open(dataset_path, 'r') as file:\n",
    "    data = json.load(file)"
   ]
  },
  {
   "cell_type": "code",
   "execution_count": 3,
   "id": "f782defa-fd5e-4b6a-b113-5fad0871247e",
   "metadata": {},
   "outputs": [
    {
     "data": {
      "text/plain": [
       "[{'conversation_ID': 1,\n",
       "  'conversation': [{'utterance_ID': 1,\n",
       "    'text': 'Alright , so I am back in high school , I am standing in the middle of the cafeteria , and I realize I am totally naked .',\n",
       "    'speaker': 'Chandler',\n",
       "    'emotion': 'neutral'},\n",
       "   {'utterance_ID': 2,\n",
       "    'text': 'Oh , yeah . Had that dream .',\n",
       "    'speaker': 'All',\n",
       "    'emotion': 'neutral'},\n",
       "   {'utterance_ID': 3,\n",
       "    'text': 'Then I look down , and I realize there is a phone ... there .',\n",
       "    'speaker': 'Chandler',\n",
       "    'emotion': 'surprise'},\n",
       "   {'utterance_ID': 4,\n",
       "    'text': 'Instead of ... ?',\n",
       "    'speaker': 'Joey',\n",
       "    'emotion': 'surprise'},\n",
       "   {'utterance_ID': 5,\n",
       "    'text': 'That is right .',\n",
       "    'speaker': 'Chandler',\n",
       "    'emotion': 'anger'},\n",
       "   {'utterance_ID': 6,\n",
       "    'text': 'Never had that dream .',\n",
       "    'speaker': 'Joey',\n",
       "    'emotion': 'neutral'},\n",
       "   {'utterance_ID': 7,\n",
       "    'text': 'No .',\n",
       "    'speaker': 'Phoebe',\n",
       "    'emotion': 'neutral'},\n",
       "   {'utterance_ID': 8,\n",
       "    'text': 'All of a sudden , the phone starts to ring .',\n",
       "    'speaker': 'Chandler',\n",
       "    'emotion': 'neutral'}],\n",
       "  'emotion-cause_pairs': [['3_surprise', '1_I realize I am totally naked .'],\n",
       "   ['3_surprise',\n",
       "    '3_Then I look down , and I realize there is a phone ... there .'],\n",
       "   ['4_surprise', '1_I realize I am totally naked .'],\n",
       "   ['4_surprise',\n",
       "    '3_Then I look down , and I realize there is a phone ... there .'],\n",
       "   ['4_surprise', '4_Instead of ...'],\n",
       "   ['5_anger', '1_I realize I am totally naked .'],\n",
       "   ['5_anger',\n",
       "    '3_Then I look down , and I realize there is a phone ... there .'],\n",
       "   ['5_anger', '4_Instead of ...']]}]"
      ]
     },
     "execution_count": 3,
     "metadata": {},
     "output_type": "execute_result"
    }
   ],
   "source": [
    "data[:1]"
   ]
  },
  {
   "cell_type": "code",
   "execution_count": 4,
   "id": "73f13ccb-3c77-4098-8d6f-0f8689060a4f",
   "metadata": {},
   "outputs": [],
   "source": [
    "conversations_ids = []\n",
    "conversations = []\n",
    "\n",
    "for obj in data:\n",
    "    conversations_ids.append(obj['conversation_ID'])\n",
    "    conversations.append(obj['conversation'])"
   ]
  },
  {
   "cell_type": "code",
   "execution_count": 5,
   "id": "ced9cccb-eb57-4e52-9723-6467792fd5cb",
   "metadata": {},
   "outputs": [
    {
     "data": {
      "text/plain": [
       "1374"
      ]
     },
     "execution_count": 5,
     "metadata": {},
     "output_type": "execute_result"
    }
   ],
   "source": [
    "len(conversations_ids)"
   ]
  },
  {
   "cell_type": "code",
   "execution_count": 6,
   "id": "e335641e-d3f4-493d-b3e9-56748733c2e1",
   "metadata": {},
   "outputs": [
    {
     "data": {
      "text/plain": [
       "1374"
      ]
     },
     "execution_count": 6,
     "metadata": {},
     "output_type": "execute_result"
    }
   ],
   "source": [
    "len(conversations)"
   ]
  },
  {
   "cell_type": "code",
   "execution_count": 7,
   "id": "cd7191ad-1266-4f68-bdc7-dd2d60e72d66",
   "metadata": {},
   "outputs": [
    {
     "data": {
      "text/plain": [
       "[[{'utterance_ID': 1,\n",
       "   'text': 'Alright , so I am back in high school , I am standing in the middle of the cafeteria , and I realize I am totally naked .',\n",
       "   'speaker': 'Chandler',\n",
       "   'emotion': 'neutral'},\n",
       "  {'utterance_ID': 2,\n",
       "   'text': 'Oh , yeah . Had that dream .',\n",
       "   'speaker': 'All',\n",
       "   'emotion': 'neutral'},\n",
       "  {'utterance_ID': 3,\n",
       "   'text': 'Then I look down , and I realize there is a phone ... there .',\n",
       "   'speaker': 'Chandler',\n",
       "   'emotion': 'surprise'},\n",
       "  {'utterance_ID': 4,\n",
       "   'text': 'Instead of ... ?',\n",
       "   'speaker': 'Joey',\n",
       "   'emotion': 'surprise'},\n",
       "  {'utterance_ID': 5,\n",
       "   'text': 'That is right .',\n",
       "   'speaker': 'Chandler',\n",
       "   'emotion': 'anger'},\n",
       "  {'utterance_ID': 6,\n",
       "   'text': 'Never had that dream .',\n",
       "   'speaker': 'Joey',\n",
       "   'emotion': 'neutral'},\n",
       "  {'utterance_ID': 7,\n",
       "   'text': 'No .',\n",
       "   'speaker': 'Phoebe',\n",
       "   'emotion': 'neutral'},\n",
       "  {'utterance_ID': 8,\n",
       "   'text': 'All of a sudden , the phone starts to ring .',\n",
       "   'speaker': 'Chandler',\n",
       "   'emotion': 'neutral'}]]"
      ]
     },
     "execution_count": 7,
     "metadata": {},
     "output_type": "execute_result"
    }
   ],
   "source": [
    "conversations[:1]"
   ]
  },
  {
   "cell_type": "markdown",
   "id": "cb781c0c-9a14-463b-b409-c53183da18d2",
   "metadata": {},
   "source": [
    "### Train Dataset"
   ]
  },
  {
   "cell_type": "code",
   "execution_count": 8,
   "id": "afadc8f5-ff41-4b9a-b343-32b3bf76d3f4",
   "metadata": {},
   "outputs": [],
   "source": [
    "dataset_path = 'train_dataset.json'\n",
    "\n",
    "# Read the JSON file\n",
    "with open(dataset_path, 'r') as file:\n",
    "    train = json.load(file)\n",
    "\n",
    "# print(train)"
   ]
  },
  {
   "cell_type": "code",
   "execution_count": 9,
   "id": "d5c0e802-152f-4b39-b91f-89b2ad164a72",
   "metadata": {},
   "outputs": [],
   "source": [
    "train_ids = train['conversation_ID']"
   ]
  },
  {
   "cell_type": "code",
   "execution_count": 10,
   "id": "282e110e-d5f1-4a73-a459-8ab0f5c3645e",
   "metadata": {},
   "outputs": [
    {
     "name": "stdout",
     "output_type": "stream",
     "text": [
      "[{'utterance_ID': 1, 'text': 'Oh hey Joey ! What up ?', 'speaker': 'Phoebe', 'emotion': 'joy'}, {'utterance_ID': 2, 'text': 'I can not decide which route to take to Vegas . Hey , you have traveled a lot right ?', 'speaker': 'Joey', 'emotion': 'neutral'}, {'utterance_ID': 3, 'text': 'Yeah , I have been around .', 'speaker': 'Phoebe', 'emotion': 'neutral'}, {'utterance_ID': 4, 'text': 'Okay , so ... so which route should I take the northern route or the southern route ?', 'speaker': 'Joey', 'emotion': 'neutral'}, {'utterance_ID': 5, 'text': 'Ooh , if you take the northern route there is a man in Illinois with a beard of bees .', 'speaker': 'Phoebe', 'emotion': 'neutral'}, {'utterance_ID': 6, 'text': 'Great ! Problem solved !', 'speaker': 'Joey', 'emotion': 'joy'}]\n"
     ]
    }
   ],
   "source": [
    "train_conversations = train['conversation']\n",
    "print(train_conversations['535'])"
   ]
  },
  {
   "cell_type": "markdown",
   "id": "c054aac9-c633-47ba-8931-691374d7c443",
   "metadata": {},
   "source": [
    "#### Emotion distribution"
   ]
  },
  {
   "cell_type": "code",
   "execution_count": 17,
   "id": "f14ab6b3-e47e-41e0-a08c-698447d6bbef",
   "metadata": {},
   "outputs": [],
   "source": [
    "emotions_counts = {\n",
    "    \"anger\": 0,\n",
    "    \"disgust\": 0,\n",
    "    \"fear\": 0,\n",
    "    \"joy\": 0,\n",
    "    \"neutral\": 0,\n",
    "    \"sadness\": 0,\n",
    "    \"surprise\": 0\n",
    "}\n",
    "for conv_id, conversation in train_conversations.items():\n",
    "    for utterance in conversation:\n",
    "        # print(utterance)\n",
    "        emotions_counts[utterance['emotion']] += 1"
   ]
  },
  {
   "cell_type": "code",
   "execution_count": 24,
   "id": "10dd1195-e9a0-49a7-b409-92c87608079c",
   "metadata": {},
   "outputs": [
    {
     "data": {
      "image/png": "[encoded data removed]",
      "text/plain": [
       "<Figure size 1000x600 with 1 Axes>"
      ]
     },
     "metadata": {},
     "output_type": "display_data"
    }
   ],
   "source": [
    "# Data\n",
    "emotion_counts = {\n",
    "    'anger': 1241,\n",
    "    'disgust': 303,\n",
    "    'fear': 267,\n",
    "    'joy': 1707,\n",
    "    'neutral': 4464,\n",
    "    'sadness': 871,\n",
    "    'surprise': 1393\n",
    "}\n",
    "\n",
    "# Create lists of emotions and their counts\n",
    "emotions = list(emotion_counts.keys())\n",
    "counts = list(emotion_counts.values())\n",
    "\n",
    "# Plotting\n",
    "plt.figure(figsize=(10, 6))  # Adjust the size of the plot as needed\n",
    "plt.bar(emotions, counts, color='skyblue')  # You can choose your own color\n",
    "\n",
    "# Adding titles and labels\n",
    "plt.title('Train Emotion Distribution')\n",
    "plt.xlabel('Emotions')\n",
    "plt.ylabel('Counts')\n",
    "\n",
    "# Optionally, you can add a grid for better readability\n",
    "plt.grid(axis='y', linestyle='--', alpha=0.7)\n",
    "\n",
    "# Show the plot\n",
    "plt.show()"
   ]
  },
  {
   "cell_type": "markdown",
   "id": "02762450-bc86-4983-b475-ab2538283295",
   "metadata": {},
   "source": [
    "### Test Dataset"
   ]
  },
  {
   "cell_type": "code",
   "execution_count": 11,
   "id": "7a8a9c53-62e1-4226-9aab-894f9739a5ad",
   "metadata": {},
   "outputs": [],
   "source": [
    "dataset_path = 'test_dataset.json'\n",
    "\n",
    "# Read the JSON file\n",
    "with open(dataset_path, 'r') as file:\n",
    "    test = json.load(file)\n",
    "\n",
    "# print(test)\n",
    "test_ids = test['conversation_ID']\n"
   ]
  },
  {
   "cell_type": "code",
   "execution_count": 12,
   "id": "89d15c1b-ad85-435d-b374-adc0a4264bc6",
   "metadata": {},
   "outputs": [
    {
     "name": "stdout",
     "output_type": "stream",
     "text": [
      "[{'utterance_ID': 1, 'text': 'Hey !', 'speaker': 'Joey', 'emotion': 'joy'}, {'utterance_ID': 2, 'text': 'So , what are you guys in the market for ? We have got uh , scarves , tulip post cards ...', 'speaker': 'The Vendor', 'emotion': 'neutral'}, {'utterance_ID': 3, 'text': 'Check this out ? Huh ? Yeah . That is the stuff . What do you think ?', 'speaker': 'Joey', 'emotion': 'joy'}, {'utterance_ID': 4, 'text': 'Well , I do not have to buy that , \" I am with stupid \" T ... shirt anymore .', 'speaker': 'Chandler', 'emotion': 'neutral'}, {'utterance_ID': 5, 'text': 'Well , I like it . Here you go .', 'speaker': 'Joey', 'emotion': 'neutral'}, {'utterance_ID': 6, 'text': 'All right , look , you are not really gonna buy that are you ? Do not you think you have embarrassed me enough for one day ?', 'speaker': 'Chandler', 'emotion': 'anger'}, {'utterance_ID': 7, 'text': 'Oh , I embarrass you ?', 'speaker': 'Joey', 'emotion': 'surprise'}, {'utterance_ID': 8, 'text': 'How can I answer that when I am pretending I do not know you ?', 'speaker': 'Chandler', 'emotion': 'neutral'}, {'utterance_ID': 9, 'text': 'Oh really ? Then how come no one here is wearing them ?', 'speaker': 'Chandler', 'emotion': 'surprise'}, {'utterance_ID': 10, 'text': 'They are all tourists .', 'speaker': 'The Vendor', 'emotion': 'neutral'}, {'utterance_ID': 11, 'text': 'All right , look , if you insist on wearing that , in public , you know , you are gonna spend the rest of the afternoon all by yourself .', 'speaker': 'Chandler', 'emotion': 'disgust'}, {'utterance_ID': 12, 'text': 'Oh yeah ? If you are gonna make me choose between you and the hat , I choose the hat .', 'speaker': 'Joey', 'emotion': 'anger'}, {'utterance_ID': 13, 'text': 'Good choice .', 'speaker': 'The Vendor', 'emotion': 'neutral'}, {'utterance_ID': 14, 'text': 'Thanks .', 'speaker': 'Joey', 'emotion': 'neutral'}, {'utterance_ID': 15, 'text': 'Okay , wait . All right , that is it , okay , I am out of here . I am not going to be embarrassed anymore !', 'speaker': 'Chandler', 'emotion': 'anger'}]\n"
     ]
    }
   ],
   "source": [
    "test_conversations = test['conversation']\n",
    "print(test_conversations['430'])"
   ]
  },
  {
   "cell_type": "markdown",
   "id": "7f2db33a-d2dd-41a1-ba7f-95054a0f7338",
   "metadata": {},
   "source": [
    "#### Emotion Distribution"
   ]
  },
  {
   "cell_type": "code",
   "execution_count": 20,
   "id": "7613fb93-665b-4ff8-bcce-4458674cb0c3",
   "metadata": {},
   "outputs": [],
   "source": [
    "emotions_counts = {\n",
    "    \"anger\": 0,\n",
    "    \"disgust\": 0,\n",
    "    \"fear\": 0,\n",
    "    \"joy\": 0,\n",
    "    \"neutral\": 0,\n",
    "    \"sadness\": 0,\n",
    "    \"surprise\": 0\n",
    "}\n",
    "for conv_id, conversation in test_conversations.items():\n",
    "    for utterance in conversation:\n",
    "        # print(utterance)\n",
    "        emotions_counts[utterance['emotion']] += 1"
   ]
  },
  {
   "cell_type": "code",
   "execution_count": 23,
   "id": "31c354bb-536b-43de-95fc-d917bc298574",
   "metadata": {},
   "outputs": [
    {
     "data": {
      "image/png": "[encoded data removed]",
      "text/plain": [
       "<Figure size 1000x600 with 1 Axes>"
      ]
     },
     "metadata": {},
     "output_type": "display_data"
    }
   ],
   "source": [
    "# Data\n",
    "emotion_counts = {\n",
    "    'anger': 374,\n",
    "    'disgust': 111,\n",
    "    'fear': 106,\n",
    "    'joy': 594,\n",
    "    'neutral': 1465,\n",
    "    'sadness': 276,\n",
    "    'surprise': 447\n",
    "}\n",
    "\n",
    "# Create lists of emotions and their counts\n",
    "emotions = list(emotion_counts.keys())\n",
    "counts = list(emotion_counts.values())\n",
    "\n",
    "# Plotting\n",
    "plt.figure(figsize=(10, 6))  # Adjust the size of the plot as needed\n",
    "plt.bar(emotions, counts, color='skyblue')  # You can choose your own color\n",
    "\n",
    "# Adding titles and labels\n",
    "plt.title('Test Emotion Distribution')\n",
    "plt.xlabel('Emotions')\n",
    "plt.ylabel('Counts')\n",
    "\n",
    "# Optionally, you can add a grid for better readability\n",
    "plt.grid(axis='y', linestyle='--', alpha=0.7)\n",
    "\n",
    "# Show the plot\n",
    "plt.show()"
   ]
  },
  {
   "cell_type": "markdown",
   "id": "a4aa9265-4774-4fe4-a4cd-55048b2db3a6",
   "metadata": {},
   "source": [
    "# Subtask 0"
   ]
  },
  {
   "cell_type": "markdown",
   "id": "3a01558d-e895-47d0-82a7-1c8a6cf21ffa",
   "metadata": {},
   "source": [
    "#### Inference Example (no training)"
   ]
  },
  {
   "cell_type": "code",
   "execution_count": 48,
   "id": "5cf4b25d-a4d4-4507-b106-a4ca1b99ca98",
   "metadata": {},
   "outputs": [],
   "source": [
    "# Load spaCy model for tokenization and dependency parsing\n",
    "nlp = spacy.load(\"en_core_web_sm\")\n",
    "\n",
    "# Load a pre-trained emotion classification model from Hugging Face\n",
    "emotion_classifier = pipeline(\"sentiment-analysis\", model=\"michellejieli/emotion_text_classifier\")"
   ]
  },
  {
   "cell_type": "markdown",
   "id": "eeed706f-18ee-4368-aeda-bd0f56a550f1",
   "metadata": {},
   "source": [
    "#### Tokenizer"
   ]
  },
  {
   "cell_type": "code",
   "execution_count": 89,
   "id": "d545bd63-435f-4889-9066-1a7e14bd0ab7",
   "metadata": {},
   "outputs": [
    {
     "data": {
      "application/vnd.jupyter.widget-view+json": {
       "model_id": "ec171c440de840cdbb04d4c0489f8942",
       "version_major": 2,
       "version_minor": 0
      },
      "text/plain": [
       "tokenizer_config.json:   0%|          | 0.00/1.22k [00:00<?, ?B/s]"
      ]
     },
     "metadata": {},
     "output_type": "display_data"
    },
    {
     "data": {
      "application/vnd.jupyter.widget-view+json": {
       "model_id": "398488ac2fcd437caa5867c2633286bd",
       "version_major": 2,
       "version_minor": 0
      },
      "text/plain": [
       "vocab.json:   0%|          | 0.00/798k [00:00<?, ?B/s]"
      ]
     },
     "metadata": {},
     "output_type": "display_data"
    },
    {
     "data": {
      "application/vnd.jupyter.widget-view+json": {
       "model_id": "8413ad70571a4e168dbf38fffc826313",
       "version_major": 2,
       "version_minor": 0
      },
      "text/plain": [
       "merges.txt:   0%|          | 0.00/456k [00:00<?, ?B/s]"
      ]
     },
     "metadata": {},
     "output_type": "display_data"
    },
    {
     "data": {
      "application/vnd.jupyter.widget-view+json": {
       "model_id": "c8c5d7c9e9ec4c188631383be0e8d54d",
       "version_major": 2,
       "version_minor": 0
      },
      "text/plain": [
       "tokenizer.json:   0%|          | 0.00/2.11M [00:00<?, ?B/s]"
      ]
     },
     "metadata": {},
     "output_type": "display_data"
    },
    {
     "data": {
      "application/vnd.jupyter.widget-view+json": {
       "model_id": "c23922fe466c4984aafc7693cd39abd8",
       "version_major": 2,
       "version_minor": 0
      },
      "text/plain": [
       "special_tokens_map.json:   0%|          | 0.00/280 [00:00<?, ?B/s]"
      ]
     },
     "metadata": {},
     "output_type": "display_data"
    }
   ],
   "source": [
    "# tokenizer = AutoTokenizer.from_pretrained(\"distilroberta-base\")\n",
    "tokenizer = AutoTokenizer.from_pretrained(\"thesergiu/finetuning-sentiment-model-10k-samples\")"
   ]
  },
  {
   "cell_type": "code",
   "execution_count": 90,
   "id": "fe06b2b1-0675-4de3-90be-af5366b3d399",
   "metadata": {},
   "outputs": [
    {
     "name": "stdout",
     "output_type": "stream",
     "text": [
      "[0, 7516, 6, 356, 6, 2813, 162, 6620, 328, 2] [1, 1, 1, 1, 1, 1, 1, 1, 1, 1]\n",
      "<class 'list'> <class 'list'>\n"
     ]
    }
   ],
   "source": [
    "tokenized_output = tokenizer(\"Oh, look, wish me luck!\", truncation=True)\n",
    "print(tokenized_output['input_ids'], tokenized_output['attention_mask'])\n",
    "print(type(tokenized_output['input_ids']), type(tokenized_output['attention_mask']))"
   ]
  },
  {
   "cell_type": "markdown",
   "id": "66a31d05-71f5-46dc-a1d3-78dc4b369939",
   "metadata": {},
   "source": [
    "#### Train Data"
   ]
  },
  {
   "cell_type": "code",
   "execution_count": 91,
   "id": "06ab9555-9612-41f4-b145-5dcce9d4f139",
   "metadata": {},
   "outputs": [],
   "source": [
    "emotion2int = {\n",
    "    \"anger\": 0,\n",
    "    \"disgust\": 1,\n",
    "    \"fear\": 2,\n",
    "    \"joy\": 3,\n",
    "    \"neutral\": 4,\n",
    "    \"sadness\": 5,\n",
    "    \"surprise\": 6\n",
    "}\n",
    "\n",
    "# int2emotion = {\n",
    "#     \"anger\": 0,\n",
    "#     \"disgust\": 1,\n",
    "#     \"fear\": 2,\n",
    "#     \"joy\": 3,\n",
    "#     \"neutral\": 4,\n",
    "#     \"sadness\": 5,\n",
    "#     \"surprise\": 6\n",
    "# }"
   ]
  },
  {
   "cell_type": "code",
   "execution_count": 92,
   "id": "0c443e2e-886a-4764-b7c2-fd931cfa5718",
   "metadata": {},
   "outputs": [
    {
     "name": "stdout",
     "output_type": "stream",
     "text": [
      "10246 10246 10246 10246\n",
      "Oh hey Joey ! What up ? [0, 7516, 17232, 12972, 27785, 653, 62, 17487, 2] [1, 1, 1, 1, 1, 1, 1, 1, 1] joy 3\n"
     ]
    }
   ],
   "source": [
    "train_inputs = []\n",
    "labels = []\n",
    "train_input_ids = []\n",
    "train_attention_mask = []\n",
    "train_labels2num = []\n",
    "\n",
    "for id, conversation in train_conversations.items():\n",
    "    for utterance in conversation:\n",
    "        train_inputs.append(utterance['text'])\n",
    "        output = tokenizer(utterance['text'])\n",
    "        train_input_ids.append(output[\"input_ids\"])\n",
    "        train_attention_mask.append(output[\"attention_mask\"])\n",
    "        labels.append(utterance['emotion'])\n",
    "        train_labels2num.append(emotion2int[utterance['emotion']])\n",
    "\n",
    "print(len(train_input_ids), len(labels), len(train_attention_mask), len(train_labels2num))\n",
    "print(train_inputs[0], train_input_ids[0], train_attention_mask[0], labels[0], train_labels2num[0])"
   ]
  },
  {
   "cell_type": "code",
   "execution_count": 93,
   "id": "4c0d6852-ef65-403a-97f8-92fa9b296e7b",
   "metadata": {},
   "outputs": [],
   "source": [
    "data = {\n",
    "    # \"text\": train_inputs,\n",
    "    \"labels\": train_labels2num,\n",
    "    \"input_ids\": train_input_ids,\n",
    "    \"attention_mask\": train_attention_mask\n",
    "}\n",
    "df = pd.DataFrame(data)\n",
    "train_dataset = Dataset.from_pandas(df)"
   ]
  },
  {
   "cell_type": "code",
   "execution_count": 94,
   "id": "dad6fab6-5ec3-4e01-9572-d05bfe83f1bd",
   "metadata": {},
   "outputs": [],
   "source": [
    "train_dataset.set_format('torch', columns=['input_ids', 'attention_mask', 'labels'])"
   ]
  },
  {
   "cell_type": "code",
   "execution_count": 95,
   "id": "5f87d458-39fd-405a-9886-4019e56070b6",
   "metadata": {},
   "outputs": [
    {
     "name": "stdout",
     "output_type": "stream",
     "text": [
      "Dataset({\n",
      "    features: ['labels', 'input_ids', 'attention_mask'],\n",
      "    num_rows: 10246\n",
      "})\n"
     ]
    }
   ],
   "source": [
    "print(train_dataset)"
   ]
  },
  {
   "cell_type": "markdown",
   "id": "1ad5b5eb-1336-4a0f-9431-1f3d637f22b2",
   "metadata": {},
   "source": [
    "#### Test Data"
   ]
  },
  {
   "cell_type": "code",
   "execution_count": 96,
   "id": "ba1ee89d-6ab4-45b4-b402-4948b086c2a2",
   "metadata": {},
   "outputs": [
    {
     "name": "stdout",
     "output_type": "stream",
     "text": [
      "3373 3373 3373 3373\n",
      "Hey ! [0, 13368, 27785, 2] [1, 1, 1, 1] joy 3\n"
     ]
    }
   ],
   "source": [
    "test_inputs = []\n",
    "test_tokenized_inputs = []\n",
    "test_labels = []\n",
    "test_input_ids = []\n",
    "test_attention_mask = []\n",
    "test_labels2num = []\n",
    "\n",
    "for id, conversation in test_conversations.items():\n",
    "    for utterance in conversation:\n",
    "        test_inputs.append(utterance['text'])\n",
    "        # test_tokenized_inputs.append(tokenizer(utterance['text'], truncation=True))\n",
    "        output = tokenizer(utterance['text'])\n",
    "        test_input_ids.append(output[\"input_ids\"])\n",
    "        test_attention_mask.append(output[\"attention_mask\"])\n",
    "        test_labels.append(utterance['emotion'])\n",
    "        test_labels2num.append(emotion2int[utterance['emotion']])\n",
    "\n",
    "print(len(test_input_ids), len(test_labels), len(test_attention_mask), len(test_labels2num))\n",
    "print(test_inputs[0],test_input_ids[0], test_attention_mask[0], test_labels[0], test_labels2num[0])"
   ]
  },
  {
   "cell_type": "code",
   "execution_count": 97,
   "id": "5955117d-13c0-4c5e-9254-761218e7bd18",
   "metadata": {},
   "outputs": [
    {
     "name": "stdout",
     "output_type": "stream",
     "text": [
      "['labels', 'input_ids', 'attention_mask']\n",
      "Dataset({\n",
      "    features: ['labels', 'input_ids', 'attention_mask'],\n",
      "    num_rows: 3373\n",
      "})\n"
     ]
    }
   ],
   "source": [
    "data = {\n",
    "    # \"text\": test_inputs,\n",
    "    \"labels\": test_labels2num,\n",
    "    \"input_ids\": test_input_ids,\n",
    "    \"attention_mask\": test_attention_mask\n",
    "}\n",
    "df = pd.DataFrame(data)\n",
    "test_dataset = Dataset.from_pandas(df)\n",
    "print(test_dataset.column_names)\n",
    "print(test_dataset)"
   ]
  },
  {
   "cell_type": "code",
   "execution_count": 98,
   "id": "20ef8de4-24fb-4427-adfc-5dd32b6fca50",
   "metadata": {},
   "outputs": [],
   "source": [
    "test_dataset.set_format('torch', columns=['input_ids', 'attention_mask', 'labels'])"
   ]
  },
  {
   "cell_type": "code",
   "execution_count": 99,
   "id": "34908f85-d9c4-4b00-8d0e-85b51aad390d",
   "metadata": {},
   "outputs": [],
   "source": [
    "# print(test_dataset['text'][0])"
   ]
  },
  {
   "cell_type": "markdown",
   "id": "434664da-9bb7-4c29-afed-f25501fcd5f1",
   "metadata": {},
   "source": [
    "#### Create Tokenized Datasets"
   ]
  },
  {
   "cell_type": "code",
   "execution_count": 100,
   "id": "009ccf66-791d-4b58-aac0-3fee6e6f3041",
   "metadata": {},
   "outputs": [],
   "source": [
    "data_collator = DataCollatorWithPadding(tokenizer=tokenizer)"
   ]
  },
  {
   "cell_type": "markdown",
   "id": "395d3884-fe8b-4b3a-ba7e-7aed7b2d1a57",
   "metadata": {},
   "source": [
    "#### Model"
   ]
  },
  {
   "cell_type": "code",
   "execution_count": 101,
   "id": "3b78ecbd-8466-4948-9e53-167c5c814965",
   "metadata": {},
   "outputs": [],
   "source": [
    "# model = AutoModelForSequenceClassification.from_pretrained(\n",
    "#     \"michellejieli/emotion_text_classifier\", \n",
    "# )\n",
    "\n",
    "model = AutoModelForSequenceClassification.from_pretrained(\n",
    "    \"thesergiu/finetuning-sentiment-model-10k-samples\", \n",
    ")"
   ]
  },
  {
   "cell_type": "code",
   "execution_count": 102,
   "id": "9b7b2638-31a2-4265-8401-e8d27da5d187",
   "metadata": {},
   "outputs": [],
   "source": [
    "def compute_metrics(eval_pred):\n",
    "   load_accuracy = load_metric(\"accuracy\", trust_remote_code=True)\n",
    "   # load_f1 = load_metric(\"f1\")\n",
    "  \n",
    "   logits, labels = eval_pred\n",
    "   predictions = np.argmax(logits, axis=-1)\n",
    "   accuracy = load_accuracy.compute(predictions=predictions, references=labels)[\"accuracy\"]\n",
    "   # f1 = load_f1.compute(predictions=predictions, references=labels)[\"f1\"]\n",
    "   return {\"accuracy\": accuracy}"
   ]
  },
  {
   "cell_type": "code",
   "execution_count": 103,
   "id": "e1882e70-2857-4dd5-a22a-51afc785ead4",
   "metadata": {},
   "outputs": [],
   "source": [
    "# from huggingface_hub import notebook_login\n",
    "# notebook_login()"
   ]
  },
  {
   "cell_type": "markdown",
   "id": "4166cbf2-200f-46da-9366-b54115de578a",
   "metadata": {},
   "source": [
    "### Results\n",
    "\n",
    "| Model | Epochs | Train Accuracy | Test Accuracy |\r\n",
    "|-------|--------|----------------|---------------|\r",
    "| michellejieli/emotion_text_classifier      |  2      |     0.753           |     0.679          |\r\n",
    "|michellejieli/emotion_text_classifier       | 20       |      0.955          |    0.646          | |\r\n",
    "michellejieli/emotion_text_classiier|     5            |      0.966          |      0.645                 |\r\n"
   ]
  },
  {
   "cell_type": "code",
   "execution_count": 104,
   "id": "e7a4188d-fc7c-42a7-860a-c755c5bd7323",
   "metadata": {},
   "outputs": [],
   "source": [
    "repo_name = \"finetuning-sentiment-model-10k-samples\"\n",
    " \n",
    "training_args = TrainingArguments(\n",
    "   output_dir=repo_name,\n",
    "   learning_rate=2e-4,\n",
    "   per_device_train_batch_size=128,\n",
    "   per_device_eval_batch_size=128,\n",
    "   num_train_epochs=2,\n",
    "   weight_decay=0.1,\n",
    "   save_strategy=\"epoch\",\n",
    "   # push_to_hub=True,\n",
    ")\n",
    " \n",
    "trainer = Trainer(\n",
    "   model=model,\n",
    "   args=training_args,\n",
    "   train_dataset=train_dataset,\n",
    "   eval_dataset=test_dataset,\n",
    "   tokenizer=tokenizer,\n",
    "   data_collator=data_collator,\n",
    "   compute_metrics=compute_metrics,\n",
    ")\n"
   ]
  },
  {
   "cell_type": "code",
   "execution_count": 78,
   "id": "b706faa7-8e17-4255-902c-a7e293a77a32",
   "metadata": {},
   "outputs": [
    {
     "data": {
      "text/html": [
       "\n",
       "    <div>\n",
       "      \n",
       "      <progress value='162' max='162' style='width:300px; height:20px; vertical-align: middle;'></progress>\n",
       "      [162/162 00:24, Epoch 2/2]\n",
       "    </div>\n",
       "    <table border=\"1\" class=\"dataframe\">\n",
       "  <thead>\n",
       " <tr style=\"text-align: left;\">\n",
       "      <th>Step</th>\n",
       "      <th>Training Loss</th>\n",
       "    </tr>\n",
       "  </thead>\n",
       "  <tbody>\n",
       "  </tbody>\n",
       "</table><p>"
      ],
      "text/plain": [
       "<IPython.core.display.HTML object>"
      ]
     },
     "metadata": {},
     "output_type": "display_data"
    },
    {
     "data": {
      "text/plain": [
       "TrainOutput(global_step=162, training_loss=0.9931683952425733, metrics={'train_runtime': 24.8497, 'train_samples_per_second': 824.639, 'train_steps_per_second': 6.519, 'total_flos': 238040301409344.0, 'train_loss': 0.9931683952425733, 'epoch': 2.0})"
      ]
     },
     "execution_count": 78,
     "metadata": {},
     "output_type": "execute_result"
    }
   ],
   "source": [
    "# trainer.train()"
   ]
  },
  {
   "cell_type": "code",
   "execution_count": 105,
   "id": "ad99cbbd-a096-4996-b5f3-ddd403d182b0",
   "metadata": {},
   "outputs": [
    {
     "name": "stderr",
     "output_type": "stream",
     "text": [
      "You're using a RobertaTokenizerFast tokenizer. Please note that with a fast tokenizer, using the `__call__` method is faster than using a method to encode the text followed by a call to the `pad` method to get a padded encoding.\n"
     ]
    },
    {
     "data": {
      "text/html": [],
      "text/plain": [
       "<IPython.core.display.HTML object>"
      ]
     },
     "metadata": {},
     "output_type": "display_data"
    },
    {
     "data": {
      "text/plain": [
       "{'eval_loss': 1.0844780206680298,\n",
       " 'eval_accuracy': 0.640972428105544,\n",
       " 'eval_runtime': 1.9363,\n",
       " 'eval_samples_per_second': 1741.997,\n",
       " 'eval_steps_per_second': 13.944}"
      ]
     },
     "execution_count": 105,
     "metadata": {},
     "output_type": "execute_result"
    }
   ],
   "source": [
    "trainer.evaluate()"
   ]
  },
  {
   "cell_type": "code",
   "execution_count": 106,
   "id": "e8917bcd-f194-4184-a60e-17c4a8ea101a",
   "metadata": {},
   "outputs": [
    {
     "data": {
      "text/plain": [
       "PredictionOutput(predictions=array([[ 0.39949837, -1.8105557 , -1.6570587 , ...,  1.2467072 ,\n",
       "        -1.4840589 ,  1.1244258 ],\n",
       "       [-0.0615969 , -1.3461576 , -1.2526312 , ...,  2.9516232 ,\n",
       "         0.84837496, -1.4922618 ],\n",
       "       [-0.3151899 , -1.6356266 , -1.8009752 , ...,  3.7774699 ,\n",
       "         0.48883063, -1.9778042 ],\n",
       "       ...,\n",
       "       [-0.03455137, -1.2291783 , -0.9258614 , ...,  2.2838361 ,\n",
       "         0.64484954, -1.6744637 ],\n",
       "       [ 0.1401683 , -0.48357072, -1.8899697 , ...,  0.6047044 ,\n",
       "        -0.39588556,  3.099468  ],\n",
       "       [ 0.02174205, -0.487102  , -0.7052406 , ...,  1.7304311 ,\n",
       "         0.7740062 , -0.82224655]], dtype=float32), label_ids=array([3, 4, 4, ..., 6, 6, 4]), metrics={'test_loss': 0.8417397141456604, 'test_accuracy': 0.7266250243997657, 'test_runtime': 3.8652, 'test_samples_per_second': 2650.85, 'test_steps_per_second': 20.956})"
      ]
     },
     "execution_count": 106,
     "metadata": {},
     "output_type": "execute_result"
    }
   ],
   "source": [
    "trainer.predict(train_dataset)"
   ]
  },
  {
   "cell_type": "code",
   "execution_count": 107,
   "id": "2a17d101-2504-4f49-b82d-4467e0dd0c2f",
   "metadata": {},
   "outputs": [
    {
     "data": {
      "text/html": [],
      "text/plain": [
       "<IPython.core.display.HTML object>"
      ]
     },
     "metadata": {},
     "output_type": "display_data"
    },
    {
     "data": {
      "text/plain": [
       "PredictionOutput(predictions=array([[ 0.40460837, -1.4400575 , -2.0164084 , ...,  1.8971832 ,\n",
       "        -1.6272271 ,  0.2941543 ],\n",
       "       [-0.23048702, -1.3986528 , -1.9813193 , ...,  3.7786705 ,\n",
       "        -0.47103003, -0.37560523],\n",
       "       [ 0.00750665, -1.1659061 , -1.6214137 , ...,  1.5149518 ,\n",
       "        -0.61382085,  2.1203957 ],\n",
       "       ...,\n",
       "       [ 1.6514231 , -0.30944082, -1.6659166 , ...,  1.5042416 ,\n",
       "        -0.38710153, -1.5783656 ],\n",
       "       [ 0.7180482 , -0.38061285, -1.275393  , ...,  0.5659094 ,\n",
       "        -0.10494567,  1.7350239 ],\n",
       "       [-0.19089878, -0.6434145 , -1.6065603 , ...,  3.6776083 ,\n",
       "        -0.05840236, -2.2797031 ]], dtype=float32), label_ids=array([3, 4, 3, ..., 4, 5, 4]), metrics={'test_loss': 1.0844780206680298, 'test_accuracy': 0.640972428105544, 'test_runtime': 1.5675, 'test_samples_per_second': 2151.842, 'test_steps_per_second': 17.225})"
      ]
     },
     "execution_count": 107,
     "metadata": {},
     "output_type": "execute_result"
    }
   ],
   "source": [
    "trainer.predict(test_dataset)"
   ]
  },
  {
   "cell_type": "markdown",
   "id": "fa4a012f-bbb0-4d95-b328-51b929d0aa04",
   "metadata": {},
   "source": [
    "# Subtask 1"
   ]
  },
  {
   "cell_type": "markdown",
   "id": "2ac2b39d-60fd-4a02-841a-4493212eabdf",
   "metadata": {},
   "source": [
    "### Data Exploration\n",
    "\n",
    "- let's say we have a good emotion classifier (i.e. 65%).\n",
    "- a sentence with an emotion is always a pair with itself.\n",
    "- for each conversation, we will look at the emotion-cause pairs. we will attempt to create all causal (possible) pairs, and use BERT to predict whether 2 sentences are 'related' by formulating this as a Next Sentence Prediction (NSP) task.\n",
    "\n",
    "#### 1. Train and Predict NSP with BERT\n",
    "- We wil take all pairs which exist. Pairs fround within the ground truth are marked as 1 (true), and others which are not as 0 (false)\n",
    "- Exclude pairs which are associated with the same sentence - this responsiblity is passed onto the sentiment analysis model, which will include that sentence as a pair if it detects an emotion (other than neutral).\n",
    "- We will check our 'accuracy' for the NSP task on all causal pairs excluding self-matching (i.e. 1-2, 1-3, 1-4, 2-3, etc.)\n",
    "\n",
    "#### 2. Check Emotion-Cause Pairs Accuracy (without span)\n",
    "- We will check our accuracy (or F1) on the emotion-cause pair (without span) by checking for the presence of our emotion-cause pairs, either resulting from the NSP, or from our sentiment prediction model (which in our case will only include self-matched sentences)"
   ]
  },
  {
   "cell_type": "code",
   "execution_count": 13,
   "id": "30ff39a1-746e-4388-be03-967c1cb74c4f",
   "metadata": {},
   "outputs": [
    {
     "data": {
      "text/plain": [
       "dict_keys(['conversation_ID', 'conversation', 'emotion-cause_pairs'])"
      ]
     },
     "execution_count": 13,
     "metadata": {},
     "output_type": "execute_result"
    }
   ],
   "source": [
    "train.keys()"
   ]
  },
  {
   "cell_type": "code",
   "execution_count": 14,
   "id": "0c331658-45ef-4b79-bae0-7d981325b838",
   "metadata": {},
   "outputs": [
    {
     "data": {
      "text/plain": [
       "['535', '890', '1370', '371', '96', '1273']"
      ]
     },
     "execution_count": 14,
     "metadata": {},
     "output_type": "execute_result"
    }
   ],
   "source": [
    "list(train['emotion-cause_pairs'].keys())[:6]"
   ]
  },
  {
   "cell_type": "markdown",
   "id": "0626ddbd-efa1-4e13-bc7c-d8bd5f2409df",
   "metadata": {},
   "source": [
    "#### Example 1"
   ]
  },
  {
   "cell_type": "code",
   "execution_count": 15,
   "id": "41056d33-6004-4b0b-8c1d-8b50535939bf",
   "metadata": {},
   "outputs": [
    {
     "data": {
      "text/plain": [
       "[{'utterance_ID': 1,\n",
       "  'text': 'Oh hey Joey ! What up ?',\n",
       "  'speaker': 'Phoebe',\n",
       "  'emotion': 'joy'},\n",
       " {'utterance_ID': 2,\n",
       "  'text': 'I can not decide which route to take to Vegas . Hey , you have traveled a lot right ?',\n",
       "  'speaker': 'Joey',\n",
       "  'emotion': 'neutral'},\n",
       " {'utterance_ID': 3,\n",
       "  'text': 'Yeah , I have been around .',\n",
       "  'speaker': 'Phoebe',\n",
       "  'emotion': 'neutral'},\n",
       " {'utterance_ID': 4,\n",
       "  'text': 'Okay , so ... so which route should I take the northern route or the southern route ?',\n",
       "  'speaker': 'Joey',\n",
       "  'emotion': 'neutral'},\n",
       " {'utterance_ID': 5,\n",
       "  'text': 'Ooh , if you take the northern route there is a man in Illinois with a beard of bees .',\n",
       "  'speaker': 'Phoebe',\n",
       "  'emotion': 'neutral'},\n",
       " {'utterance_ID': 6,\n",
       "  'text': 'Great ! Problem solved !',\n",
       "  'speaker': 'Joey',\n",
       "  'emotion': 'joy'}]"
      ]
     },
     "execution_count": 15,
     "metadata": {},
     "output_type": "execute_result"
    }
   ],
   "source": [
    "train['conversation']['535']"
   ]
  },
  {
   "cell_type": "code",
   "execution_count": 16,
   "id": "442fa318-864f-4f70-9fbf-46bf5b0b8593",
   "metadata": {},
   "outputs": [
    {
     "data": {
      "text/plain": [
       "{'utterance_ID': 6,\n",
       " 'text': 'Great ! Problem solved !',\n",
       " 'speaker': 'Joey',\n",
       " 'emotion': 'joy'}"
      ]
     },
     "execution_count": 16,
     "metadata": {},
     "output_type": "execute_result"
    }
   ],
   "source": [
    "conversation = train['conversation']['535']\n",
    "conversation[-1]"
   ]
  },
  {
   "cell_type": "code",
   "execution_count": 17,
   "id": "ca67331b-e6fe-42bb-a379-3a9b1d211e49",
   "metadata": {},
   "outputs": [
    {
     "data": {
      "text/plain": [
       "[['1_joy', '1_Oh hey Joey !'],\n",
       " ['6_joy',\n",
       "  '5_if you take the northern route there is a man in Illinois with a beard of bees .'],\n",
       " ['6_joy', '6_Great ! Problem solved !']]"
      ]
     },
     "execution_count": 17,
     "metadata": {},
     "output_type": "execute_result"
    }
   ],
   "source": [
    "train['emotion-cause_pairs']['535']"
   ]
  },
  {
   "cell_type": "markdown",
   "id": "02ba4829-c13f-43bb-8daa-c9918786c3c2",
   "metadata": {
    "jp-MarkdownHeadingCollapsed": true
   },
   "source": [
    "#### Example 2"
   ]
  },
  {
   "cell_type": "code",
   "execution_count": 28,
   "id": "17469b6b-2920-40df-b9b0-b60bc24dafd0",
   "metadata": {},
   "outputs": [
    {
     "data": {
      "text/plain": [
       "[{'utterance_ID': 1, 'text': 'Hi .', 'speaker': 'Phoebe', 'emotion': 'joy'},\n",
       " {'utterance_ID': 2,\n",
       "  'text': 'Listen , I am sorry about that whole thing with Roger .',\n",
       "  'speaker': 'Phoebe',\n",
       "  'emotion': 'sadness'},\n",
       " {'utterance_ID': 3,\n",
       "  'text': 'It really was not right , and I , and I want to make it up to you , so umm , I brought you something that I think you will really enjoy .',\n",
       "  'speaker': 'Phoebe',\n",
       "  'emotion': 'neutral'},\n",
       " {'utterance_ID': 4,\n",
       "  'text': 'Now , this is just a loan .',\n",
       "  'speaker': 'Phoebe',\n",
       "  'emotion': 'neutral'},\n",
       " {'utterance_ID': 5,\n",
       "  'text': 'Okay ?',\n",
       "  'speaker': 'Phoebe',\n",
       "  'emotion': 'neutral'},\n",
       " {'utterance_ID': 6,\n",
       "  'text': 'I am gonna , I am gonna want him back .',\n",
       "  'speaker': 'Phoebe',\n",
       "  'emotion': 'neutral'},\n",
       " {'utterance_ID': 7,\n",
       "  'text': 'So ... I am gonna go now .',\n",
       "  'speaker': 'Phoebe',\n",
       "  'emotion': 'neutral'},\n",
       " {'utterance_ID': 8,\n",
       "  'text': 'I am sorry , I thought I could do it and I can not !',\n",
       "  'speaker': 'Phoebe',\n",
       "  'emotion': 'sadness'}]"
      ]
     },
     "execution_count": 28,
     "metadata": {},
     "output_type": "execute_result"
    }
   ],
   "source": [
    "train['conversation']['890']"
   ]
  },
  {
   "cell_type": "code",
   "execution_count": 24,
   "id": "dd4d70f7-26b0-4fce-a4fe-8841e5bfedc1",
   "metadata": {},
   "outputs": [
    {
     "data": {
      "text/plain": [
       "[['1_joy', '1_Hi .'],\n",
       " ['2_sadness', '2_I am sorry about that whole thing with Roger .'],\n",
       " ['8_sadness', '8_I thought I could do it and I can not !']]"
      ]
     },
     "execution_count": 24,
     "metadata": {},
     "output_type": "execute_result"
    }
   ],
   "source": [
    "train['emotion-cause_pairs']['890']"
   ]
  },
  {
   "cell_type": "markdown",
   "id": "31880edc-52b7-4579-a357-857b6d1de1a6",
   "metadata": {
    "jp-MarkdownHeadingCollapsed": true
   },
   "source": [
    "#### Example 3"
   ]
  },
  {
   "cell_type": "code",
   "execution_count": 25,
   "id": "012abd71-a75d-455d-9eec-e703db6c6c8f",
   "metadata": {},
   "outputs": [
    {
     "data": {
      "text/plain": [
       "[['1_fear', '1_if there is a reason why we can not have a baby'],\n",
       " ['3_joy',\n",
       "  '2_You and Monica are meant to have children . I am sure it is gonna be just fine .'],\n",
       " ['4_surprise', '4_I did not even think of that .'],\n",
       " ['5_sadness',\n",
       "  '5_I was just so worried about having to ... come here and do ... that ...'],\n",
       " ['6_surprise',\n",
       "  '5_I was just so worried about having to ... come here and do ... that ...'],\n",
       " ['6_surprise',\n",
       "  '6_you can do it in the parking lot of a Taco Bell , but you can not do it at a doctor office ?'],\n",
       " ['7_anger',\n",
       "  '6_you can do it in the parking lot of a Taco Bell , but you can not do it at a doctor office ?']]"
      ]
     },
     "execution_count": 25,
     "metadata": {},
     "output_type": "execute_result"
    }
   ],
   "source": [
    "train['emotion-cause_pairs']['1370']"
   ]
  },
  {
   "cell_type": "code",
   "execution_count": 26,
   "id": "8ceb9971-f05f-430a-ac7f-ed80f66de370",
   "metadata": {},
   "outputs": [
    {
     "data": {
      "text/plain": [
       "[['5_surprise', '1_Would you ever be a surrogate for anyone ?'],\n",
       " ['5_surprise', '2_It depends on who asked .'],\n",
       " ['5_surprise', '3_What if I asked ?'],\n",
       " ['5_surprise', '4_Oh , Mon , sure .'],\n",
       " ['6_fear', '6_You are not asking are you ?'],\n",
       " ['8_joy', '6_You are not asking are you ?'],\n",
       " ['8_joy', '7_No .']]"
      ]
     },
     "execution_count": 26,
     "metadata": {},
     "output_type": "execute_result"
    }
   ],
   "source": [
    "train['emotion-cause_pairs']['371']"
   ]
  },
  {
   "cell_type": "markdown",
   "id": "9ff55e03-804e-4ae3-ac56-a0400058368b",
   "metadata": {},
   "source": [
    "#### Data Pre-Processing Subtask 1"
   ]
  },
  {
   "cell_type": "code",
   "execution_count": 18,
   "id": "77cd96e7-0dc1-4099-adbc-13d53ddf3d4e",
   "metadata": {},
   "outputs": [],
   "source": [
    "def preprocess_ec_pairs(ec_pairs_list):\n",
    "    ec_ids = []\n",
    "    \n",
    "    for pair in ec_pairs_list:\n",
    "        utt_id_emotion, emotion = pair[0].split('_')[0], pair[0].split('_')[1]\n",
    "        utt_id_cause, span = pair[1].split('_')[0], pair[1].split('_')[1]\n",
    "        ec_ids.append((utt_id_emotion, utt_id_cause))\n",
    "\n",
    "    return ec_ids\n",
    "\n",
    "def non_self_matching_ec_pairs(ec_ids):\n",
    "    non_matching_ids = []\n",
    "    for pair in ec_ids:\n",
    "        if pair[0] == pair[1]:\n",
    "            continue\n",
    "        non_matching_ids.append(pair)\n",
    "    return non_matching_ids\n",
    "\n",
    "def inverse_non_self_matching_ec_pairs_for_nsp(non_matching_ids):\n",
    "    inversed_non_matching_ids = []\n",
    "    for pair in non_matching_ids:\n",
    "       inversed_non_matching_ids.append((int(pair[1]), int(pair[0])))\n",
    "    return set(inversed_non_matching_ids)\n",
    "\n",
    "def return_causal_range_tuples(start, end):\n",
    "    # Generate all causal pairs within the given range\n",
    "    causal_pairs = [(i, j) for i in range(start, end) for j in range(i+1, end + 1)]\n",
    "    \n",
    "    return causal_pairs"
   ]
  },
  {
   "cell_type": "code",
   "execution_count": 19,
   "id": "79805b01-9719-454d-b1d0-bd5d085bdae3",
   "metadata": {},
   "outputs": [
    {
     "name": "stdout",
     "output_type": "stream",
     "text": [
      "[('5', '1'), ('5', '2'), ('5', '3'), ('5', '4'), ('6', '6'), ('8', '6'), ('8', '7')]\n"
     ]
    }
   ],
   "source": [
    "ec_ids = preprocess_ec_pairs(train['emotion-cause_pairs']['371'])\n",
    "print(ec_ids)"
   ]
  },
  {
   "cell_type": "code",
   "execution_count": 20,
   "id": "159586e3-adb4-4d38-a9d3-fa082e905c40",
   "metadata": {},
   "outputs": [
    {
     "name": "stdout",
     "output_type": "stream",
     "text": [
      "[('5', '1'), ('5', '2'), ('5', '3'), ('5', '4'), ('8', '6'), ('8', '7')]\n"
     ]
    }
   ],
   "source": [
    "non_matching = non_self_matching_ec_pairs(ec_ids)\n",
    "print(non_matching)"
   ]
  },
  {
   "cell_type": "code",
   "execution_count": 21,
   "id": "8a58728b-5162-4e2c-8cde-fa4b7c898eb7",
   "metadata": {},
   "outputs": [
    {
     "name": "stdout",
     "output_type": "stream",
     "text": [
      "{(1, 5), (6, 8), (4, 5), (7, 8), (2, 5), (3, 5)}\n"
     ]
    }
   ],
   "source": [
    "print(inverse_non_self_matching_ec_pairs_for_nsp(non_matching))"
   ]
  },
  {
   "cell_type": "markdown",
   "id": "36551ac2-66c4-4865-b0e7-a6529279f476",
   "metadata": {},
   "source": [
    "## 1. Train BERT for NSP"
   ]
  },
  {
   "cell_type": "code",
   "execution_count": 22,
   "id": "d26bb7e8-d1c8-403e-a6dd-aa580e3b638e",
   "metadata": {},
   "outputs": [],
   "source": [
    "from transformers import BertTokenizer, BertForNextSentencePrediction\n",
    "import torch"
   ]
  },
  {
   "cell_type": "code",
   "execution_count": 23,
   "id": "68df5495-d4f7-4721-b739-4af4a76db9ee",
   "metadata": {},
   "outputs": [],
   "source": [
    "tokenizer = BertTokenizer.from_pretrained('bert-base-uncased')\n",
    "model = BertForNextSentencePrediction.from_pretrained('bert-base-uncased')"
   ]
  },
  {
   "cell_type": "markdown",
   "id": "e5754f0e-7c0e-461e-8a37-fdaff4cfea59",
   "metadata": {},
   "source": [
    "#### Example"
   ]
  },
  {
   "cell_type": "code",
   "execution_count": 24,
   "id": "fbaccf08-d507-4056-b93e-8b41cd519626",
   "metadata": {},
   "outputs": [
    {
     "name": "stdout",
     "output_type": "stream",
     "text": [
      "dict_keys(['input_ids', 'token_type_ids', 'attention_mask'])\n",
      "tensor([0])\n",
      "Outputs: odict_keys(['loss', 'logits'])\n",
      "Prediction: tensor(0)\n"
     ]
    }
   ],
   "source": [
    "# Example\n",
    "text = (\"After Abraham Lincoln won the November 1860 presidential election on an \"\n",
    "        \"anti-slavery platform, an initial seven slave states declared their \"\n",
    "        \"secession from the country to form the Confederacy.\")\n",
    "text2 = (\"War broke out in April 1861 when secessionist forces attacked Fort \"\n",
    "         \"Sumter in South Carolina, just over a month after Lincoln's \"\n",
    "         \"inauguration.\")\n",
    "\n",
    "# Tokenization\n",
    "inputs = tokenizer(text, text2, return_tensors='pt')\n",
    "print(inputs.keys())\n",
    "\n",
    "# Create Class Label\n",
    "labels = torch.LongTensor([0])\n",
    "print(labels)\n",
    "\n",
    "# Compute Loss\n",
    "outputs = model(**inputs, labels=labels)\n",
    "print(\"Outputs:\", outputs.keys())\n",
    "\n",
    "# Compute Prediction\n",
    "print(\"Prediction:\", torch.argmax(outputs.logits))"
   ]
  },
  {
   "cell_type": "markdown",
   "id": "4343b81b-dc9f-4f26-9e36-637d923dd9d8",
   "metadata": {},
   "source": [
    "#### Construct Train Dataset for NSP using BERT"
   ]
  },
  {
   "cell_type": "code",
   "execution_count": 25,
   "id": "a49724bc-cd4b-4589-8acf-90f873244675",
   "metadata": {},
   "outputs": [],
   "source": [
    "# train['conversation'].items()\n",
    "sentence1_list = []\n",
    "sentence2_list = []\n",
    "nsp_label = []\n",
    "\n",
    "for conv_id, conversation in train['conversation'].items():\n",
    "    \n",
    "    # Get Causal Range of ids for conversation\n",
    "    min_utt_id = conversation[0]['utterance_ID']\n",
    "    max_utt_id = conversation[-1]['utterance_ID']\n",
    "    causal_range = return_causal_range_tuples(min_utt_id, max_utt_id)\n",
    "    # print(causal_range)\n",
    "\n",
    "    # Get all emotion-cause ids from pairs\n",
    "    ec_ids = preprocess_ec_pairs(train['emotion-cause_pairs'][conv_id])\n",
    "    # print(ec_ids)\n",
    "\n",
    "    # Obtain only non-self-matching (for NSP) and reverse the ids (so that they're causal)\n",
    "    label1_nsp = inverse_non_self_matching_ec_pairs_for_nsp(non_self_matching_ec_pairs(ec_ids))\n",
    "    # print(label1_nsp)\n",
    "\n",
    "    for id1 in range(1, max_utt_id):\n",
    "        for id2 in range(id1 + 1, max_utt_id+1):  # Start from id1+1 to avoid self matching\n",
    "            # print(id1, id2)\n",
    "            # Find the utterances in the conversation with id1 and id2\n",
    "            sentence1 = next((utt['text'] for utt in conversation if utt['utterance_ID'] == id1), None)\n",
    "            sentence2 = next((utt['text'] for utt in conversation if utt['utterance_ID'] == id2), None)\n",
    "    \n",
    "            # Check if both sentences were found\n",
    "            if sentence1 is not None and sentence2 is not None:\n",
    "                if (id1, id2) in label1_nsp:\n",
    "                    label = 1\n",
    "                else:\n",
    "                    label = 0\n",
    "    \n",
    "                sentence1_list.append(sentence1)\n",
    "                sentence2_list.append(sentence2)\n",
    "                nsp_label.append(label)\n",
    "\n",
    "\n",
    "    # break"
   ]
  },
  {
   "cell_type": "code",
   "execution_count": 26,
   "id": "5b54e7b7-f292-4e97-9c45-48fdad076aea",
   "metadata": {},
   "outputs": [],
   "source": [
    "# Debugging\n",
    "# for pair in zip(sentence1_list, sentence2_list, nsp_label):\n",
    "#     print(pair)"
   ]
  },
  {
   "cell_type": "code",
   "execution_count": 27,
   "id": "d91bcec4-9303-4ba6-b26b-b8396be035ef",
   "metadata": {},
   "outputs": [
    {
     "name": "stdout",
     "output_type": "stream",
     "text": [
      "61826 61826 61826\n"
     ]
    }
   ],
   "source": [
    "print(len(sentence1_list), len(sentence2_list), len(nsp_label))"
   ]
  },
  {
   "cell_type": "code",
   "execution_count": 28,
   "id": "f3e8a9e1-31c8-40fa-8809-86fd739fbf9d",
   "metadata": {},
   "outputs": [
    {
     "name": "stdout",
     "output_type": "stream",
     "text": [
      "True Labels: 3255; False Labels: 58571\n"
     ]
    }
   ],
   "source": [
    "true_labels = 0\n",
    "for label in nsp_label:\n",
    "    if label == 1:\n",
    "       true_labels += 1\n",
    "\n",
    "print(f\"True Labels: {true_labels}; False Labels: {len(nsp_label) - true_labels}\") "
   ]
  },
  {
   "cell_type": "markdown",
   "id": "11b501b9-36ee-4cf8-b5d7-8249bd165b61",
   "metadata": {},
   "source": [
    "#### Train Loop"
   ]
  },
  {
   "cell_type": "code",
   "execution_count": 29,
   "id": "03db0acb-11e1-4020-b307-c36c41311a0f",
   "metadata": {},
   "outputs": [
    {
     "name": "stdout",
     "output_type": "stream",
     "text": [
      "Using device: cuda\n"
     ]
    }
   ],
   "source": [
    "import torch\n",
    "\n",
    "# Check if GPU is available and use it; otherwise, use CPU\n",
    "device = torch.device(\"cuda\" if torch.cuda.is_available() else \"cpu\")\n",
    "print(f\"Using device: {device}\")"
   ]
  },
  {
   "cell_type": "code",
   "execution_count": 30,
   "id": "afd02fa1-2c1d-4c57-9b73-057ce840d702",
   "metadata": {},
   "outputs": [],
   "source": [
    "# Example data (Replace with your dataset)\n",
    "# texts = [(\"Sentence 1 of pair 1\", \"Sentence 2 of pair 1\"), (\"Sentence 1 of pair 2\", \"Sentence 2 of pair 2\"), ...]\n",
    "texts = [(sentence1, sentence2) for sentence1, sentence2 in zip(sentence1_list, sentence2_list)]\n",
    "# labels = [0, 1, ...]  # 0 if not a logical follow-up, 1 if it is\n",
    "labels = nsp_label\n",
    "\n",
    "# Initialize tokenizer and model\n",
    "tokenizer = BertTokenizer.from_pretrained('bert-base-uncased')\n",
    "model = BertForNextSentencePrediction.from_pretrained('bert-base-uncased')\n",
    "model = model.to(device)\n",
    "\n",
    "# Tokenization\n",
    "max_length = 256  # Set a maximum length. Choose a value that suits your data.\n",
    "tokenized_input = [tokenizer(text[0], text[1], padding='max_length', max_length=max_length, truncation=True, return_tensors='pt') for text in texts]\n",
    "\n",
    "input_ids = torch.cat([t[\"input_ids\"] for t in tokenized_input], dim=0)\n",
    "attention_masks = torch.cat([t[\"attention_mask\"] for t in tokenized_input], dim=0)\n",
    "labels = torch.tensor(labels)\n",
    "\n",
    "# Create DataLoader\n",
    "dataset = TensorDataset(input_ids, attention_masks, labels)\n",
    "dataloader = DataLoader(dataset, batch_size=64)\n",
    "\n",
    "# Optimizer\n",
    "optimizer = torch.optim.AdamW(model.parameters(), lr=1e-5)"
   ]
  },
  {
   "cell_type": "code",
   "execution_count": 39,
   "id": "57860951-a1e8-4161-93cb-c0faa3aee5b4",
   "metadata": {},
   "outputs": [
    {
     "name": "stdout",
     "output_type": "stream",
     "text": [
      "Epoch 5 completed. Average Loss: 0.0797\n",
      "Epoch 6 completed. Average Loss: 0.0636\n",
      "Epoch 7 completed. Average Loss: 0.0546\n",
      "Epoch 8 completed. Average Loss: 0.0460\n",
      "Epoch 9 completed. Average Loss: 0.0390\n",
      "CPU times: user 45min 37s, sys: 21.6 s, total: 45min 59s\n",
      "Wall time: 45min 58s\n"
     ]
    }
   ],
   "source": [
    "%%time\n",
    "num_epochs=10\n",
    "\n",
    "# Training Loop\n",
    "for epoch in range(5, num_epochs):\n",
    "    model.train()\n",
    "    total_loss = 0  # Initialize total loss for each epoch\n",
    "\n",
    "    for batch in dataloader:\n",
    "        b_input_ids, b_input_mask, b_labels = tuple(t.to(device) for t in batch)\n",
    "\n",
    "        # Clear previously calculated gradients\n",
    "        model.zero_grad()\n",
    "\n",
    "        # Forward pass\n",
    "        outputs = model(input_ids=b_input_ids, attention_mask=b_input_mask, labels=b_labels)\n",
    "        loss = outputs.loss\n",
    "\n",
    "        # Accumulate the loss\n",
    "        total_loss += loss.item()\n",
    "\n",
    "        # Backward pass\n",
    "        loss.backward()\n",
    "\n",
    "        # Update parameters\n",
    "        optimizer.step()\n",
    "\n",
    "    # Calculate the average loss for the epoch\n",
    "    avg_loss = total_loss / len(dataloader)\n",
    "    print(f\"Epoch {epoch} completed. Average Loss: {avg_loss:.4f}\")"
   ]
  },
  {
   "cell_type": "code",
   "execution_count": 40,
   "id": "f49fdaf5-2b1d-40c3-bf8f-5e3c1afbdc9d",
   "metadata": {},
   "outputs": [],
   "source": [
    "# Create a dictionary of items to save\n",
    "checkpoint = {\n",
    "    'epoch': epoch,\n",
    "    'model_state_dict': model.state_dict(),\n",
    "    'optimizer_state_dict': optimizer.state_dict(),\n",
    "    'loss': loss,\n",
    "    # You can add more things to save here like accuracy, scheduler state, etc.\n",
    "}\n",
    "\n",
    "# Path where to save the checkpoint\n",
    "checkpoint_path = f'bert_{num_epochs}_epoch_nsp.pth'\n",
    "\n",
    "# Save the checkpoint\n",
    "torch.save(checkpoint, checkpoint_path)"
   ]
  },
  {
   "cell_type": "markdown",
   "id": "32c3f6c6-9b9d-4df7-92cc-62448b090fe5",
   "metadata": {},
   "source": [
    "#### Verify Train Loss / Train Predictions\n",
    "\n",
    "BERT NSP 5 epochs - Train F1: 81%;  Test F1: 62% - Time: 45 minutes\n",
    "\n",
    "BERT NSP 10 epochs - Train F1: 99%; Test F1: 92%; on sentences which could potentially have a causal relationship, excluding self-matching pairs (e.g. 1-1)"
   ]
  },
  {
   "cell_type": "code",
   "execution_count": 43,
   "id": "f89f5273-3609-4878-88e6-eaa1f523250c",
   "metadata": {},
   "outputs": [
    {
     "name": "stdout",
     "output_type": "stream",
     "text": [
      "Confusion Matrix:\n",
      " [[58026   545]\n",
      " [   65  3190]]\n",
      "F1 Score: 0.9905\n"
     ]
    }
   ],
   "source": [
    "# Set the model to evaluation mode\n",
    "model.eval()\n",
    "\n",
    "# Lists to store true labels and predictions\n",
    "all_labels = []\n",
    "all_predictions = []\n",
    "\n",
    "with torch.no_grad():\n",
    "    for batch in dataloader:\n",
    "        # Unpack the batch data and move to the same device as model\n",
    "        b_input_ids, b_input_mask, b_labels = tuple(t.to(device) for t in batch)\n",
    "\n",
    "        # Make predictions\n",
    "        outputs = model(input_ids=b_input_ids, attention_mask=b_input_mask)\n",
    "        predictions = torch.argmax(outputs.logits, dim=1)\n",
    "\n",
    "        # Store predictions and true labels\n",
    "        all_labels.extend(b_labels.tolist())\n",
    "        all_predictions.extend(predictions.tolist())"
   ]
  },
  {
   "cell_type": "code",
   "execution_count": 60,
   "id": "ef745111-a126-4bb8-9f4c-b5f66e47576f",
   "metadata": {},
   "outputs": [
    {
     "data": {
      "image/png": "[encoded data removed]",
      "text/plain": [
       "<Figure size 1000x700 with 2 Axes>"
      ]
     },
     "metadata": {},
     "output_type": "display_data"
    },
    {
     "name": "stdout",
     "output_type": "stream",
     "text": [
      "F1 Score: 0.9905\n"
     ]
    }
   ],
   "source": [
    "# Convert lists to numpy arrays for use with scikit-learn\n",
    "all_labels = np.array(all_labels)\n",
    "all_predictions = np.array(all_predictions)\n",
    "\n",
    "# Compute the confusion matrix\n",
    "conf_matrix = confusion_matrix(all_labels, all_predictions)\n",
    "# print(\"Confusion Matrix:\\n\", conf_matrix)\n",
    "\n",
    "# Plotting the confusion matrix\n",
    "plt.figure(figsize=(10, 7))\n",
    "sns.heatmap(conf_matrix, annot=True, fmt='g', norm=matplotlib.colors.LogNorm())\n",
    "plt.xlabel('Predicted labels')\n",
    "plt.ylabel('True labels')\n",
    "plt.title('Confusion Matrix')\n",
    "plt.show()\n",
    "\n",
    "# Compute the F1 score\n",
    "f1 = f1_score(all_labels, all_predictions, average='weighted')  # 'weighted' accounts for label imbalance\n",
    "print(\"F1 Score: {:.4f}\".format(f1))"
   ]
  },
  {
   "cell_type": "markdown",
   "id": "4f04483b-3852-4784-b5ae-c673f0c898f8",
   "metadata": {},
   "source": [
    "#### Pre-process Test Data"
   ]
  },
  {
   "cell_type": "code",
   "execution_count": 113,
   "id": "485a803b-6e68-4536-90e5-8e1b022567e8",
   "metadata": {},
   "outputs": [],
   "source": [
    "# train['conversation'].items()\n",
    "sentence1_list = []\n",
    "sentence2_list = []\n",
    "nsp_label = []\n",
    "\n",
    "for conv_id, conversation in test['conversation'].items():\n",
    "    \n",
    "    # Get Causal Range of ids for conversation\n",
    "    min_utt_id = conversation[0]['utterance_ID']\n",
    "    max_utt_id = conversation[-1]['utterance_ID']\n",
    "    causal_range = return_causal_range_tuples(min_utt_id, max_utt_id)\n",
    "    # print(causal_range)\n",
    "\n",
    "    # Get all emotion-cause ids from pairs\n",
    "    ec_ids = preprocess_ec_pairs(test['emotion-cause_pairs'][conv_id])\n",
    "    # print(ec_ids)\n",
    "\n",
    "    # Obtain only non-self-matching (for NSP) and reverse the ids (so that they're causal)\n",
    "    label1_nsp = inverse_non_self_matching_ec_pairs_for_nsp(non_self_matching_ec_pairs(ec_ids))\n",
    "    # print(label1_nsp)\n",
    "\n",
    "    for id1 in range(1, max_utt_id):\n",
    "        for id2 in range(id1 + 1, max_utt_id+1):  # Start from id1+1 to avoid self matching\n",
    "            # print(id1, id2)\n",
    "            # Find the utterances in the conversation with id1 and id2\n",
    "            sentence1 = next((utt['text'] for utt in conversation if utt['utterance_ID'] == id1), None)\n",
    "            sentence2 = next((utt['text'] for utt in conversation if utt['utterance_ID'] == id2), None)\n",
    "    \n",
    "            # Check if both sentences were found\n",
    "            if sentence1 is not None and sentence2 is not None:\n",
    "                if (id1, id2) in label1_nsp:\n",
    "                    label = 1\n",
    "                else:\n",
    "                    label = 0\n",
    "    \n",
    "                sentence1_list.append(sentence1)\n",
    "                sentence2_list.append(sentence2)\n",
    "                nsp_label.append(label)\n",
    "\n",
    "\n",
    "    # break"
   ]
  },
  {
   "cell_type": "code",
   "execution_count": 114,
   "id": "7129da34-6bf6-4416-8c5b-f07b7711c102",
   "metadata": {},
   "outputs": [
    {
     "name": "stdout",
     "output_type": "stream",
     "text": [
      "20759 20759 20759\n"
     ]
    }
   ],
   "source": [
    "print(len(sentence1_list), len(sentence2_list), len(nsp_label))"
   ]
  },
  {
   "cell_type": "code",
   "execution_count": 115,
   "id": "f932c478-15ae-442e-9e19-0667cc9a2d61",
   "metadata": {},
   "outputs": [
    {
     "name": "stdout",
     "output_type": "stream",
     "text": [
      "True Labels: 1019; False Labels: 19740\n"
     ]
    }
   ],
   "source": [
    "true_labels = 0\n",
    "for label in nsp_label:\n",
    "    if label == 1:\n",
    "       true_labels += 1\n",
    "\n",
    "print(f\"True Labels: {true_labels}; False Labels: {len(nsp_label) - true_labels}\") "
   ]
  },
  {
   "cell_type": "markdown",
   "id": "5e4533de-ac78-4754-b472-95d8538c38f9",
   "metadata": {},
   "source": [
    "#### Test Dataloader"
   ]
  },
  {
   "cell_type": "code",
   "execution_count": 116,
   "id": "b089d15a-a837-4460-9ea2-15333303bb99",
   "metadata": {},
   "outputs": [],
   "source": [
    "# Example data (Replace with your dataset)\n",
    "# texts = [(\"Sentence 1 of pair 1\", \"Sentence 2 of pair 1\"), (\"Sentence 1 of pair 2\", \"Sentence 2 of pair 2\"), ...]\n",
    "texts = [(sentence1, sentence2) for sentence1, sentence2 in zip(sentence1_list, sentence2_list)]\n",
    "# labels = [0, 1, ...]  # 0 if not a logical follow-up, 1 if it is\n",
    "labels = nsp_label\n",
    "\n",
    "# Initialize tokenizer and model\n",
    "tokenizer = BertTokenizer.from_pretrained('bert-base-uncased')\n",
    "# model = BertForNextSentencePrediction.from_pretrained('bert-base-uncased')\n",
    "# model = model.to(device)\n",
    "\n",
    "# Tokenization\n",
    "max_length = 256  # Set a maximum length. Choose a value that suits your data.\n",
    "tokenized_input = [tokenizer(text[0], text[1], padding='max_length', max_length=max_length, truncation=True, return_tensors='pt') for text in texts]\n",
    "\n",
    "input_ids = torch.cat([t[\"input_ids\"] for t in tokenized_input], dim=0)\n",
    "attention_masks = torch.cat([t[\"attention_mask\"] for t in tokenized_input], dim=0)\n",
    "labels = torch.tensor(labels)\n",
    "\n",
    "# Create DataLoader\n",
    "test_dataset = TensorDataset(input_ids, attention_masks, labels)\n",
    "test_dataloader = DataLoader(test_dataset, batch_size=64)\n",
    "\n",
    "# Optimizer\n",
    "# optimizer = torch.optim.AdamW(model.parameters(), lr=1e-5)"
   ]
  },
  {
   "cell_type": "markdown",
   "id": "7146eb3c-9138-41d9-b761-9adbaf1466af",
   "metadata": {},
   "source": [
    "#### View Test accuracy and test confusion matrix"
   ]
  },
  {
   "cell_type": "code",
   "execution_count": 154,
   "id": "89ddf911-8cb7-4f5c-b7cc-a86caafd666a",
   "metadata": {},
   "outputs": [
    {
     "name": "stdout",
     "output_type": "stream",
     "text": [
      "CPU times: user 1min 6s, sys: 270 ms, total: 1min 6s\n",
      "Wall time: 1min 6s\n"
     ]
    }
   ],
   "source": [
    "%%time\n",
    "# Set the model to evaluation mode\n",
    "model.eval()\n",
    "\n",
    "# Lists to store true labels and predictions\n",
    "all_labels = []\n",
    "all_predictions = []\n",
    "\n",
    "with torch.no_grad():\n",
    "    for batch in test_dataloader:\n",
    "        # Unpack the batch data and move to the same device as model\n",
    "        b_input_ids, b_input_mask, b_labels = tuple(t.to(device) for t in batch)\n",
    "\n",
    "        # Make predictions\n",
    "        outputs = bert_nsp_model(input_ids=b_input_ids, attention_mask=b_input_mask)\n",
    "        predictions = torch.argmax(outputs.logits, dim=1)\n",
    "\n",
    "        # Store predictions and true labels\n",
    "        all_labels.extend(b_labels.tolist())\n",
    "        all_predictions.extend(predictions.tolist())"
   ]
  },
  {
   "cell_type": "code",
   "execution_count": 156,
   "id": "56440d16-f871-4d75-bb7a-eda52cc40429",
   "metadata": {},
   "outputs": [
    {
     "data": {
      "image/png": "[encoded data removed]",
      "text/plain": [
       "<Figure size 1000x700 with 2 Axes>"
      ]
     },
     "metadata": {},
     "output_type": "display_data"
    },
    {
     "name": "stdout",
     "output_type": "stream",
     "text": [
      "F1 Score: 0.9242\n"
     ]
    }
   ],
   "source": [
    "# Convert lists to numpy arrays for use with scikit-learn\n",
    "all_labels = np.array(all_labels)\n",
    "all_predictions = np.array(all_predictions)\n",
    "\n",
    "# Compute the confusion matrix\n",
    "conf_matrix = confusion_matrix(all_labels, all_predictions)\n",
    "# print(\"Confusion Matrix:\\n\", conf_matrix)\n",
    "\n",
    "# Plotting the confusion matrix\n",
    "plt.figure(figsize=(10, 7))\n",
    "sns.heatmap(conf_matrix, annot=True, fmt='g', norm=matplotlib.colors.LogNorm())\n",
    "plt.xlabel('Predicted labels')\n",
    "plt.ylabel('True labels')\n",
    "plt.title('Confusion Matrix')\n",
    "plt.show()\n",
    "\n",
    "# Compute the F1 score\n",
    "f1 = f1_score(all_labels, all_predictions, average='weighted')  # 'weighted' accounts for label imbalance\n",
    "print(\"F1 Score: {:.4f}\".format(f1))"
   ]
  },
  {
   "cell_type": "markdown",
   "id": "a4d8ba09-bf56-42b6-b0c7-5dd02f518e33",
   "metadata": {},
   "source": [
    "## 2. Check Emotion-Cause Pairs Accuracy (without span)"
   ]
  },
  {
   "cell_type": "code",
   "execution_count": 168,
   "id": "fed5c92d-babe-4871-84af-7fdac16c4444",
   "metadata": {},
   "outputs": [
    {
     "data": {
      "text/plain": [
       "BertForNextSentencePrediction(\n",
       "  (bert): BertModel(\n",
       "    (embeddings): BertEmbeddings(\n",
       "      (word_embeddings): Embedding(30522, 768, padding_idx=0)\n",
       "      (position_embeddings): Embedding(512, 768)\n",
       "      (token_type_embeddings): Embedding(2, 768)\n",
       "      (LayerNorm): LayerNorm((768,), eps=1e-12, elementwise_affine=True)\n",
       "      (dropout): Dropout(p=0.1, inplace=False)\n",
       "    )\n",
       "    (encoder): BertEncoder(\n",
       "      (layer): ModuleList(\n",
       "        (0): BertLayer(\n",
       "          (attention): BertAttention(\n",
       "            (self): BertSelfAttention(\n",
       "              (query): Linear(in_features=768, out_features=768, bias=True)\n",
       "              (key): Linear(in_features=768, out_features=768, bias=True)\n",
       "              (value): Linear(in_features=768, out_features=768, bias=True)\n",
       "              (dropout): Dropout(p=0.1, inplace=False)\n",
       "            )\n",
       "            (output): BertSelfOutput(\n",
       "              (dense): Linear(in_features=768, out_features=768, bias=True)\n",
       "              (LayerNorm): LayerNorm((768,), eps=1e-12, elementwise_affine=True)\n",
       "              (dropout): Dropout(p=0.1, inplace=False)\n",
       "            )\n",
       "          )\n",
       "          (intermediate): BertIntermediate(\n",
       "            (dense): Linear(in_features=768, out_features=3072, bias=True)\n",
       "            (intermediate_act_fn): GELUActivation()\n",
       "          )\n",
       "          (output): BertOutput(\n",
       "            (dense): Linear(in_features=3072, out_features=768, bias=True)\n",
       "            (LayerNorm): LayerNorm((768,), eps=1e-12, elementwise_affine=True)\n",
       "            (dropout): Dropout(p=0.1, inplace=False)\n",
       "          )\n",
       "        )\n",
       "        (1): BertLayer(\n",
       "          (attention): BertAttention(\n",
       "            (self): BertSelfAttention(\n",
       "              (query): Linear(in_features=768, out_features=768, bias=True)\n",
       "              (key): Linear(in_features=768, out_features=768, bias=True)\n",
       "              (value): Linear(in_features=768, out_features=768, bias=True)\n",
       "              (dropout): Dropout(p=0.1, inplace=False)\n",
       "            )\n",
       "            (output): BertSelfOutput(\n",
       "              (dense): Linear(in_features=768, out_features=768, bias=True)\n",
       "              (LayerNorm): LayerNorm((768,), eps=1e-12, elementwise_affine=True)\n",
       "              (dropout): Dropout(p=0.1, inplace=False)\n",
       "            )\n",
       "          )\n",
       "          (intermediate): BertIntermediate(\n",
       "            (dense): Linear(in_features=768, out_features=3072, bias=True)\n",
       "            (intermediate_act_fn): GELUActivation()\n",
       "          )\n",
       "          (output): BertOutput(\n",
       "            (dense): Linear(in_features=3072, out_features=768, bias=True)\n",
       "            (LayerNorm): LayerNorm((768,), eps=1e-12, elementwise_affine=True)\n",
       "            (dropout): Dropout(p=0.1, inplace=False)\n",
       "          )\n",
       "        )\n",
       "        (2): BertLayer(\n",
       "          (attention): BertAttention(\n",
       "            (self): BertSelfAttention(\n",
       "              (query): Linear(in_features=768, out_features=768, bias=True)\n",
       "              (key): Linear(in_features=768, out_features=768, bias=True)\n",
       "              (value): Linear(in_features=768, out_features=768, bias=True)\n",
       "              (dropout): Dropout(p=0.1, inplace=False)\n",
       "            )\n",
       "            (output): BertSelfOutput(\n",
       "              (dense): Linear(in_features=768, out_features=768, bias=True)\n",
       "              (LayerNorm): LayerNorm((768,), eps=1e-12, elementwise_affine=True)\n",
       "              (dropout): Dropout(p=0.1, inplace=False)\n",
       "            )\n",
       "          )\n",
       "          (intermediate): BertIntermediate(\n",
       "            (dense): Linear(in_features=768, out_features=3072, bias=True)\n",
       "            (intermediate_act_fn): GELUActivation()\n",
       "          )\n",
       "          (output): BertOutput(\n",
       "            (dense): Linear(in_features=3072, out_features=768, bias=True)\n",
       "            (LayerNorm): LayerNorm((768,), eps=1e-12, elementwise_affine=True)\n",
       "            (dropout): Dropout(p=0.1, inplace=False)\n",
       "          )\n",
       "        )\n",
       "        (3): BertLayer(\n",
       "          (attention): BertAttention(\n",
       "            (self): BertSelfAttention(\n",
       "              (query): Linear(in_features=768, out_features=768, bias=True)\n",
       "              (key): Linear(in_features=768, out_features=768, bias=True)\n",
       "              (value): Linear(in_features=768, out_features=768, bias=True)\n",
       "              (dropout): Dropout(p=0.1, inplace=False)\n",
       "            )\n",
       "            (output): BertSelfOutput(\n",
       "              (dense): Linear(in_features=768, out_features=768, bias=True)\n",
       "              (LayerNorm): LayerNorm((768,), eps=1e-12, elementwise_affine=True)\n",
       "              (dropout): Dropout(p=0.1, inplace=False)\n",
       "            )\n",
       "          )\n",
       "          (intermediate): BertIntermediate(\n",
       "            (dense): Linear(in_features=768, out_features=3072, bias=True)\n",
       "            (intermediate_act_fn): GELUActivation()\n",
       "          )\n",
       "          (output): BertOutput(\n",
       "            (dense): Linear(in_features=3072, out_features=768, bias=True)\n",
       "            (LayerNorm): LayerNorm((768,), eps=1e-12, elementwise_affine=True)\n",
       "            (dropout): Dropout(p=0.1, inplace=False)\n",
       "          )\n",
       "        )\n",
       "        (4): BertLayer(\n",
       "          (attention): BertAttention(\n",
       "            (self): BertSelfAttention(\n",
       "              (query): Linear(in_features=768, out_features=768, bias=True)\n",
       "              (key): Linear(in_features=768, out_features=768, bias=True)\n",
       "              (value): Linear(in_features=768, out_features=768, bias=True)\n",
       "              (dropout): Dropout(p=0.1, inplace=False)\n",
       "            )\n",
       "            (output): BertSelfOutput(\n",
       "              (dense): Linear(in_features=768, out_features=768, bias=True)\n",
       "              (LayerNorm): LayerNorm((768,), eps=1e-12, elementwise_affine=True)\n",
       "              (dropout): Dropout(p=0.1, inplace=False)\n",
       "            )\n",
       "          )\n",
       "          (intermediate): BertIntermediate(\n",
       "            (dense): Linear(in_features=768, out_features=3072, bias=True)\n",
       "            (intermediate_act_fn): GELUActivation()\n",
       "          )\n",
       "          (output): BertOutput(\n",
       "            (dense): Linear(in_features=3072, out_features=768, bias=True)\n",
       "            (LayerNorm): LayerNorm((768,), eps=1e-12, elementwise_affine=True)\n",
       "            (dropout): Dropout(p=0.1, inplace=False)\n",
       "          )\n",
       "        )\n",
       "        (5): BertLayer(\n",
       "          (attention): BertAttention(\n",
       "            (self): BertSelfAttention(\n",
       "              (query): Linear(in_features=768, out_features=768, bias=True)\n",
       "              (key): Linear(in_features=768, out_features=768, bias=True)\n",
       "              (value): Linear(in_features=768, out_features=768, bias=True)\n",
       "              (dropout): Dropout(p=0.1, inplace=False)\n",
       "            )\n",
       "            (output): BertSelfOutput(\n",
       "              (dense): Linear(in_features=768, out_features=768, bias=True)\n",
       "              (LayerNorm): LayerNorm((768,), eps=1e-12, elementwise_affine=True)\n",
       "              (dropout): Dropout(p=0.1, inplace=False)\n",
       "            )\n",
       "          )\n",
       "          (intermediate): BertIntermediate(\n",
       "            (dense): Linear(in_features=768, out_features=3072, bias=True)\n",
       "            (intermediate_act_fn): GELUActivation()\n",
       "          )\n",
       "          (output): BertOutput(\n",
       "            (dense): Linear(in_features=3072, out_features=768, bias=True)\n",
       "            (LayerNorm): LayerNorm((768,), eps=1e-12, elementwise_affine=True)\n",
       "            (dropout): Dropout(p=0.1, inplace=False)\n",
       "          )\n",
       "        )\n",
       "        (6): BertLayer(\n",
       "          (attention): BertAttention(\n",
       "            (self): BertSelfAttention(\n",
       "              (query): Linear(in_features=768, out_features=768, bias=True)\n",
       "              (key): Linear(in_features=768, out_features=768, bias=True)\n",
       "              (value): Linear(in_features=768, out_features=768, bias=True)\n",
       "              (dropout): Dropout(p=0.1, inplace=False)\n",
       "            )\n",
       "            (output): BertSelfOutput(\n",
       "              (dense): Linear(in_features=768, out_features=768, bias=True)\n",
       "              (LayerNorm): LayerNorm((768,), eps=1e-12, elementwise_affine=True)\n",
       "              (dropout): Dropout(p=0.1, inplace=False)\n",
       "            )\n",
       "          )\n",
       "          (intermediate): BertIntermediate(\n",
       "            (dense): Linear(in_features=768, out_features=3072, bias=True)\n",
       "            (intermediate_act_fn): GELUActivation()\n",
       "          )\n",
       "          (output): BertOutput(\n",
       "            (dense): Linear(in_features=3072, out_features=768, bias=True)\n",
       "            (LayerNorm): LayerNorm((768,), eps=1e-12, elementwise_affine=True)\n",
       "            (dropout): Dropout(p=0.1, inplace=False)\n",
       "          )\n",
       "        )\n",
       "        (7): BertLayer(\n",
       "          (attention): BertAttention(\n",
       "            (self): BertSelfAttention(\n",
       "              (query): Linear(in_features=768, out_features=768, bias=True)\n",
       "              (key): Linear(in_features=768, out_features=768, bias=True)\n",
       "              (value): Linear(in_features=768, out_features=768, bias=True)\n",
       "              (dropout): Dropout(p=0.1, inplace=False)\n",
       "            )\n",
       "            (output): BertSelfOutput(\n",
       "              (dense): Linear(in_features=768, out_features=768, bias=True)\n",
       "              (LayerNorm): LayerNorm((768,), eps=1e-12, elementwise_affine=True)\n",
       "              (dropout): Dropout(p=0.1, inplace=False)\n",
       "            )\n",
       "          )\n",
       "          (intermediate): BertIntermediate(\n",
       "            (dense): Linear(in_features=768, out_features=3072, bias=True)\n",
       "            (intermediate_act_fn): GELUActivation()\n",
       "          )\n",
       "          (output): BertOutput(\n",
       "            (dense): Linear(in_features=3072, out_features=768, bias=True)\n",
       "            (LayerNorm): LayerNorm((768,), eps=1e-12, elementwise_affine=True)\n",
       "            (dropout): Dropout(p=0.1, inplace=False)\n",
       "          )\n",
       "        )\n",
       "        (8): BertLayer(\n",
       "          (attention): BertAttention(\n",
       "            (self): BertSelfAttention(\n",
       "              (query): Linear(in_features=768, out_features=768, bias=True)\n",
       "              (key): Linear(in_features=768, out_features=768, bias=True)\n",
       "              (value): Linear(in_features=768, out_features=768, bias=True)\n",
       "              (dropout): Dropout(p=0.1, inplace=False)\n",
       "            )\n",
       "            (output): BertSelfOutput(\n",
       "              (dense): Linear(in_features=768, out_features=768, bias=True)\n",
       "              (LayerNorm): LayerNorm((768,), eps=1e-12, elementwise_affine=True)\n",
       "              (dropout): Dropout(p=0.1, inplace=False)\n",
       "            )\n",
       "          )\n",
       "          (intermediate): BertIntermediate(\n",
       "            (dense): Linear(in_features=768, out_features=3072, bias=True)\n",
       "            (intermediate_act_fn): GELUActivation()\n",
       "          )\n",
       "          (output): BertOutput(\n",
       "            (dense): Linear(in_features=3072, out_features=768, bias=True)\n",
       "            (LayerNorm): LayerNorm((768,), eps=1e-12, elementwise_affine=True)\n",
       "            (dropout): Dropout(p=0.1, inplace=False)\n",
       "          )\n",
       "        )\n",
       "        (9): BertLayer(\n",
       "          (attention): BertAttention(\n",
       "            (self): BertSelfAttention(\n",
       "              (query): Linear(in_features=768, out_features=768, bias=True)\n",
       "              (key): Linear(in_features=768, out_features=768, bias=True)\n",
       "              (value): Linear(in_features=768, out_features=768, bias=True)\n",
       "              (dropout): Dropout(p=0.1, inplace=False)\n",
       "            )\n",
       "            (output): BertSelfOutput(\n",
       "              (dense): Linear(in_features=768, out_features=768, bias=True)\n",
       "              (LayerNorm): LayerNorm((768,), eps=1e-12, elementwise_affine=True)\n",
       "              (dropout): Dropout(p=0.1, inplace=False)\n",
       "            )\n",
       "          )\n",
       "          (intermediate): BertIntermediate(\n",
       "            (dense): Linear(in_features=768, out_features=3072, bias=True)\n",
       "            (intermediate_act_fn): GELUActivation()\n",
       "          )\n",
       "          (output): BertOutput(\n",
       "            (dense): Linear(in_features=3072, out_features=768, bias=True)\n",
       "            (LayerNorm): LayerNorm((768,), eps=1e-12, elementwise_affine=True)\n",
       "            (dropout): Dropout(p=0.1, inplace=False)\n",
       "          )\n",
       "        )\n",
       "        (10): BertLayer(\n",
       "          (attention): BertAttention(\n",
       "            (self): BertSelfAttention(\n",
       "              (query): Linear(in_features=768, out_features=768, bias=True)\n",
       "              (key): Linear(in_features=768, out_features=768, bias=True)\n",
       "              (value): Linear(in_features=768, out_features=768, bias=True)\n",
       "              (dropout): Dropout(p=0.1, inplace=False)\n",
       "            )\n",
       "            (output): BertSelfOutput(\n",
       "              (dense): Linear(in_features=768, out_features=768, bias=True)\n",
       "              (LayerNorm): LayerNorm((768,), eps=1e-12, elementwise_affine=True)\n",
       "              (dropout): Dropout(p=0.1, inplace=False)\n",
       "            )\n",
       "          )\n",
       "          (intermediate): BertIntermediate(\n",
       "            (dense): Linear(in_features=768, out_features=3072, bias=True)\n",
       "            (intermediate_act_fn): GELUActivation()\n",
       "          )\n",
       "          (output): BertOutput(\n",
       "            (dense): Linear(in_features=3072, out_features=768, bias=True)\n",
       "            (LayerNorm): LayerNorm((768,), eps=1e-12, elementwise_affine=True)\n",
       "            (dropout): Dropout(p=0.1, inplace=False)\n",
       "          )\n",
       "        )\n",
       "        (11): BertLayer(\n",
       "          (attention): BertAttention(\n",
       "            (self): BertSelfAttention(\n",
       "              (query): Linear(in_features=768, out_features=768, bias=True)\n",
       "              (key): Linear(in_features=768, out_features=768, bias=True)\n",
       "              (value): Linear(in_features=768, out_features=768, bias=True)\n",
       "              (dropout): Dropout(p=0.1, inplace=False)\n",
       "            )\n",
       "            (output): BertSelfOutput(\n",
       "              (dense): Linear(in_features=768, out_features=768, bias=True)\n",
       "              (LayerNorm): LayerNorm((768,), eps=1e-12, elementwise_affine=True)\n",
       "              (dropout): Dropout(p=0.1, inplace=False)\n",
       "            )\n",
       "          )\n",
       "          (intermediate): BertIntermediate(\n",
       "            (dense): Linear(in_features=768, out_features=3072, bias=True)\n",
       "            (intermediate_act_fn): GELUActivation()\n",
       "          )\n",
       "          (output): BertOutput(\n",
       "            (dense): Linear(in_features=3072, out_features=768, bias=True)\n",
       "            (LayerNorm): LayerNorm((768,), eps=1e-12, elementwise_affine=True)\n",
       "            (dropout): Dropout(p=0.1, inplace=False)\n",
       "          )\n",
       "        )\n",
       "      )\n",
       "    )\n",
       "    (pooler): BertPooler(\n",
       "      (dense): Linear(in_features=768, out_features=768, bias=True)\n",
       "      (activation): Tanh()\n",
       "    )\n",
       "  )\n",
       "  (cls): BertOnlyNSPHead(\n",
       "    (seq_relationship): Linear(in_features=768, out_features=2, bias=True)\n",
       "  )\n",
       ")"
      ]
     },
     "execution_count": 168,
     "metadata": {},
     "output_type": "execute_result"
    }
   ],
   "source": [
    "bert_tokenizer = BertTokenizer.from_pretrained('bert-base-uncased')\n",
    "bert_nsp_model = BertForNextSentencePrediction.from_pretrained('bert-base-uncased')\n",
    "bert_nsp_model.load_state_dict(torch.load('bert_10_epoch_nsp.pth')['model_state_dict'])\n",
    "bert_nsp_model = bert_nsp_model.to(device)\n",
    "bert_nsp_model.eval()"
   ]
  },
  {
   "cell_type": "code",
   "execution_count": 131,
   "id": "19ad48fb-0e51-4d49-bb32-a1b0d14ae6d6",
   "metadata": {},
   "outputs": [],
   "source": [
    "# inputs = bert_tokenizer(sentence1, sentence2, return_tensors='pt')\n",
    "# print(inputs)"
   ]
  },
  {
   "cell_type": "code",
   "execution_count": 132,
   "id": "f9462dd0-0acb-460b-9b8c-8dede84a892b",
   "metadata": {},
   "outputs": [],
   "source": [
    "sentiment_tokenizer = AutoTokenizer.from_pretrained(\"thesergiu/finetuning-sentiment-model-10k-samples\")\n",
    "# sentiment_model = AutoModelForSequenceClassification.from_pretrained(\n",
    "#     \"thesergiu/finetuning-sentiment-model-10k-samples\", \n",
    "# )\n",
    "# sentiment_model = sentiment_model.to(device)\n",
    "emotion_classifier = pipeline(\"sentiment-analysis\", model=\"thesergiu/finetuning-sentiment-model-10k-samples\")"
   ]
  },
  {
   "cell_type": "code",
   "execution_count": 133,
   "id": "3ea1be50-5f05-46c2-9ef1-541ffeb2ddd0",
   "metadata": {},
   "outputs": [
    {
     "data": {
      "text/plain": [
       "{'label': 'disgust', 'score': 0.495368093252182}"
      ]
     },
     "execution_count": 133,
     "metadata": {},
     "output_type": "execute_result"
    }
   ],
   "source": [
    "emotion_classifier(\"This sucks!\")[0]"
   ]
  },
  {
   "cell_type": "markdown",
   "id": "e70c6131-7bc3-4b85-b06b-4e664f3d83f3",
   "metadata": {},
   "source": [
    "### Check Train Accuracy / F1 on all emotion-cause pairs"
   ]
  },
  {
   "cell_type": "code",
   "execution_count": 198,
   "id": "a8ef4f3e-f7b3-4874-9e23-508ef106ab51",
   "metadata": {},
   "outputs": [
    {
     "name": "stdout",
     "output_type": "stream",
     "text": [
      "CPU times: user 18min 25s, sys: 34.4 s, total: 18min 59s\n",
      "Wall time: 7min 47s\n"
     ]
    }
   ],
   "source": [
    "%%time\n",
    "# train['conversation'].items()\n",
    "sentence1_list = []\n",
    "sentence2_list = []\n",
    "labels = []\n",
    "predictions = []\n",
    "\n",
    "for conv_id, conversation in train['conversation'].items():\n",
    "    \n",
    "    # Get Causal Range of ids for conversation\n",
    "    min_utt_id = conversation[0]['utterance_ID']\n",
    "    max_utt_id = conversation[-1]['utterance_ID']\n",
    "    causal_range = return_causal_range_tuples(min_utt_id, max_utt_id)\n",
    "    # print(causal_range)\n",
    "\n",
    "    # Get all emotion-cause ids from pairs\n",
    "    ec_ids = preprocess_ec_pairs(train['emotion-cause_pairs'][conv_id])\n",
    "    # print(ec_ids)\n",
    "\n",
    "    # Obtain only non-self-matching (for NSP) and reverse the ids (so that they're causal)\n",
    "    label1_nsp = inverse_non_self_matching_ec_pairs_for_nsp(non_self_matching_ec_pairs(ec_ids))\n",
    "    # print(label1_nsp)\n",
    "\n",
    "    for id1 in range(1, max_utt_id):\n",
    "        for id2 in range(id1, max_utt_id):  # Start from id1+1 to avoid self matching\n",
    "            # print(id1, id2)\n",
    "\n",
    "            # This means we have a potential self-match pair, we have to perform sentiment analysis\n",
    "            if id1 == id2:\n",
    "\n",
    "                # If pair is present in emotion-cause pairs, label is 1. 0 otherwise\n",
    "                if (str(id1), str(id2)) in ec_ids:\n",
    "                    labels.append(1)\n",
    "                else:\n",
    "                    labels.append(0)\n",
    "                \n",
    "                # Find the utterances in the conversation with id1 (and id2)\n",
    "                sentence = next((utt['text'] for utt in conversation if utt['utterance_ID'] == id1), None)\n",
    "\n",
    "                # Compute score and label\n",
    "                emotion_clasif_output = emotion_classifier(sentence)[0]\n",
    "\n",
    "                # If label is anything but neutral (with high confidence), label is 1\n",
    "                if emotion_clasif_output['label'] != 'neutral' and emotion_clasif_output['score'] > 0.5:\n",
    "                    predictions.append(1)\n",
    "                else:\n",
    "                    predictions.append(0)\n",
    "\n",
    "            else:\n",
    "                # Find the utterances in the conversation with id1 and id2\n",
    "                sentence1 = next((utt['text'] for utt in conversation if utt['utterance_ID'] == id1), None)\n",
    "                sentence2 = next((utt['text'] for utt in conversation if utt['utterance_ID'] == id2), None)\n",
    "\n",
    "                # Check if both sentences were found\n",
    "                if sentence1 is not None and sentence2 is not None:\n",
    "\n",
    "                    # Tokenize the sentences\n",
    "                    # Tokenization\n",
    "                    inputs = bert_tokenizer(sentence1, sentence2, padding='max_length', max_length=256, truncation=True, return_tensors='pt')\n",
    "                    \n",
    "                    # print(inputs.keys())\n",
    "\n",
    "                    # Add label\n",
    "                    if (id1, id2) in label1_nsp:\n",
    "                        label = 1\n",
    "                    else:\n",
    "                        label = 0\n",
    "\n",
    "                    labels.append(label)\n",
    "                    \n",
    "                    # # Create Class Label\n",
    "                    # cls_label = torch.LongTensor([label])\n",
    "                    # # print(labels)\n",
    "                    \n",
    "                    # Compute Loss                  \n",
    "                    utputs = bert_nsp_model(input_ids=inputs['input_ids'].to(device), attention_mask=inputs['attention_mask'].to(device))\n",
    "                    # print(\"Outputs:\", outputs.keys())\n",
    "                    \n",
    "                    # Compute Prediction\n",
    "                    prediction = torch.argmax(outputs.logits, dim=1)\n",
    "                    # print(\"Prediction:\", prediction)\n",
    "                    predictions.append(prediction.cpu().int().item())  \n",
    "\n",
    "    # print(predictions)\n",
    "    # print(labels)\n",
    "    # break"
   ]
  },
  {
   "cell_type": "code",
   "execution_count": 199,
   "id": "a4b1064e-76f8-4445-8fab-176de85df2f5",
   "metadata": {},
   "outputs": [
    {
     "data": {
      "image/png": "[encoded data removed]",
      "text/plain": [
       "<Figure size 1000x700 with 2 Axes>"
      ]
     },
     "metadata": {},
     "output_type": "display_data"
    },
    {
     "name": "stdout",
     "output_type": "stream",
     "text": [
      "F1 Score: 0.8999\n"
     ]
    }
   ],
   "source": [
    "# Convert lists to numpy arrays for use with scikit-learn\n",
    "all_labels = np.array(labels)\n",
    "all_predictions = np.array(predictions)\n",
    "\n",
    "# Compute the confusion matrix\n",
    "conf_matrix = confusion_matrix(all_labels, all_predictions)\n",
    "# print(\"Confusion Matrix:\\n\", conf_matrix)\n",
    "\n",
    "# Plotting the confusion matrix\n",
    "plt.figure(figsize=(10, 7))\n",
    "sns.heatmap(conf_matrix, annot=True, fmt='g', norm=matplotlib.colors.LogNorm())\n",
    "plt.xlabel('Predicted labels')\n",
    "plt.ylabel('True labels')\n",
    "plt.title('Confusion Matrix')\n",
    "plt.show()\n",
    "\n",
    "# Compute the F1 score\n",
    "f1 = f1_score(all_labels, all_predictions, average='weighted')  # 'weighted' accounts for label imbalance\n",
    "print(\"F1 Score: {:.4f}\".format(f1))"
   ]
  },
  {
   "cell_type": "markdown",
   "id": "6990b749-7db0-40ca-bbfb-180414ace09c",
   "metadata": {},
   "source": [
    "### Check Test Accuracy / F1 on all emotion-cause pairs"
   ]
  },
  {
   "cell_type": "code",
   "execution_count": 194,
   "id": "bebe4fcc-88db-4765-bb1d-377709ad7c1f",
   "metadata": {},
   "outputs": [
    {
     "name": "stdout",
     "output_type": "stream",
     "text": [
      "CPU times: user 7min 4s, sys: 13.7 s, total: 7min 18s\n",
      "Wall time: 3min 6s\n"
     ]
    }
   ],
   "source": [
    "%%time\n",
    "# train['conversation'].items()\n",
    "sentence1_list = []\n",
    "sentence2_list = []\n",
    "labels = []\n",
    "predictions = []\n",
    "\n",
    "for conv_id, conversation in test['conversation'].items():\n",
    "    \n",
    "    # Get Causal Range of ids for conversation\n",
    "    min_utt_id = conversation[0]['utterance_ID']\n",
    "    max_utt_id = conversation[-1]['utterance_ID']\n",
    "    causal_range = return_causal_range_tuples(min_utt_id, max_utt_id)\n",
    "    # print(causal_range)\n",
    "\n",
    "    # Get all emotion-cause ids from pairs\n",
    "    ec_ids = preprocess_ec_pairs(test['emotion-cause_pairs'][conv_id])\n",
    "    # print(ec_ids)\n",
    "\n",
    "    # Obtain only non-self-matching (for NSP) and reverse the ids (so that they're causal)\n",
    "    label1_nsp = inverse_non_self_matching_ec_pairs_for_nsp(non_self_matching_ec_pairs(ec_ids))\n",
    "    # print(label1_nsp)\n",
    "\n",
    "    matching_ids = []\n",
    "\n",
    "    for id1 in range(1, max_utt_id + 1):\n",
    "        for id2 in range(id1, max_utt_id + 1):  # Start from id1+1 to avoid self matching\n",
    "            # print(id1, id2)\n",
    "\n",
    "            # This means we have a potential self-match pair, we have to perform sentiment analysis\n",
    "            if id1 == id2:\n",
    "\n",
    "                # If pair is present in emotion-cause pairs, label is 1. 0 otherwise\n",
    "                if (str(id1), str(id2)) in ec_ids:\n",
    "                    matching_ids.append((str(id1), str(id2)))\n",
    "                    labels.append(1)\n",
    "                else:\n",
    "                    labels.append(0)\n",
    "                \n",
    "                # Find the utterances in the conversation with id1 (and id2)\n",
    "                sentence = next((utt['text'] for utt in conversation if utt['utterance_ID'] == id1), None)\n",
    "\n",
    "                # Compute score and label\n",
    "                emotion_clasif_output = emotion_classifier(sentence)[0]\n",
    "\n",
    "                # If label is anything but neutral, label is 1\n",
    "                if emotion_clasif_output['label'] != 'neutral' and emotion_clasif_output['score'] > 0.5:\n",
    "                    predictions.append(1)\n",
    "                else:\n",
    "                    predictions.append(0)\n",
    "\n",
    "            else:\n",
    "                # Find the utterances in the conversation with id1 and id2\n",
    "                sentence1 = next((utt['text'] for utt in conversation if utt['utterance_ID'] == id1), None)\n",
    "                sentence2 = next((utt['text'] for utt in conversation if utt['utterance_ID'] == id2), None)\n",
    "\n",
    "                # Check if both sentences were found\n",
    "                if sentence1 is not None and sentence2 is not None:\n",
    "\n",
    "                    # Tokenize the sentences\n",
    "                    # Tokenization\n",
    "                    inputs = bert_tokenizer(sentence1, sentence2, padding='max_length', max_length=256, truncation=True, return_tensors='pt')\n",
    "\n",
    "                    # Add label\n",
    "                    if (id1, id2) in label1_nsp:\n",
    "                        label = 1\n",
    "                    else:\n",
    "                        label = 0\n",
    "\n",
    "                    labels.append(label)\n",
    "                    \n",
    "                    # # Create Class Label\n",
    "                    cls_label = torch.LongTensor([label])\n",
    "                    # # print(labels)\n",
    "                    \n",
    "                    # Compute Loss\n",
    "                    # TODO: Maybe remove labels here?\n",
    "                    outputs = bert_nsp_model(input_ids=inputs['input_ids'].to(device), attention_mask=inputs['attention_mask'].to(device))\n",
    "                    # print(\"Outputs:\", outputs.keys())\n",
    "                    \n",
    "                    # Compute Prediction\n",
    "                    prediction = torch.argmax(outputs.logits, dim=1)\n",
    "                    # print(\"Prediction:\", prediction)\n",
    "                    predictions.append(prediction.cpu().int().item())  \n",
    "    # print(matching_ids)\n",
    "    # print(predictions)\n",
    "    # print(labels)\n",
    "    # break"
   ]
  },
  {
   "cell_type": "code",
   "execution_count": 197,
   "id": "1bd62487-d5c0-423a-812b-2526260779f3",
   "metadata": {},
   "outputs": [
    {
     "data": {
      "image/png": "[encoded data removed]",
      "text/plain": [
       "<Figure size 1000x700 with 2 Axes>"
      ]
     },
     "metadata": {},
     "output_type": "display_data"
    },
    {
     "name": "stdout",
     "output_type": "stream",
     "text": [
      "F1 Score: 0.8919\n"
     ]
    }
   ],
   "source": [
    "# Convert lists to numpy arrays for use with scikit-learn\n",
    "all_labels = np.array(labels)\n",
    "all_predictions = np.array(predictions)\n",
    "\n",
    "# Compute the confusion matrix\n",
    "conf_matrix = confusion_matrix(all_labels, all_predictions)\n",
    "# print(\"Confusion Matrix:\\n\", conf_matrix)\n",
    "\n",
    "# Plotting the confusion matrix\n",
    "plt.figure(figsize=(10, 7))\n",
    "sns.heatmap(conf_matrix, annot=True, fmt='g', norm=matplotlib.colors.LogNorm())\n",
    "plt.xlabel('Predicted labels')\n",
    "plt.ylabel('True labels')\n",
    "plt.title('Confusion Matrix')\n",
    "plt.show()\n",
    "\n",
    "# Compute the F1 score\n",
    "f1 = f1_score(all_labels, all_predictions, average='weighted')  # 'weighted' accounts for label imbalance\n",
    "print(\"F1 Score: {:.4f}\".format(f1))"
   ]
  },
  {
   "cell_type": "markdown",
   "id": "dc3e22b5-eff1-4047-80f6-9b2ba0373ae1",
   "metadata": {},
   "source": [
    "## End Of Notebook"
   ]
  }
 ],
 "metadata": {
  "kernelspec": {
   "display_name": "Python 3 (ipykernel)",
   "language": "python",
   "name": "python3"
  },
  "language_info": {
   "codemirror_mode": {
    "name": "ipython",
    "version": 3
   },
   "file_extension": ".py",
   "mimetype": "text/x-python",
   "name": "python",
   "nbconvert_exporter": "python",
   "pygments_lexer": "ipython3",
   "version": "3.8.10"
  }
 },
 "nbformat": 4,
 "nbformat_minor": 5
}
